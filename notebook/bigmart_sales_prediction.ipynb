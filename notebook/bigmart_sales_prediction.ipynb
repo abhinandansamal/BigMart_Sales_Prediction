{
 "cells": [
  {
   "cell_type": "code",
   "execution_count": 2,
   "metadata": {},
   "outputs": [],
   "source": [
    "# Ignore warnings\n",
    "import warnings\n",
    "warnings.filterwarnings('ignore')\n",
    "\n",
    "# Import libraries\n",
    "import os\n",
    "from dotenv import load_dotenv \n",
    "import redshift_connector\n",
    "import pandas as pd\n",
    "import numpy as np\n",
    "\n",
    "import matplotlib.pyplot as plt\n",
    "import seaborn as sns\n",
    "from scipy.stats import chi2_contingency\n",
    "from scipy.stats import f_oneway\n",
    "\n",
    "from sklearn import preprocessing\n",
    "from sklearn.model_selection import cross_val_score\n",
    "from sklearn.preprocessing import LabelEncoder, SplineTransformer\n",
    "from sklearn.model_selection import train_test_split, GridSearchCV\n",
    "from sklearn.linear_model import LinearRegression, ElasticNet, Ridge\n",
    "from sklearn.ensemble import RandomForestRegressor, ExtraTreesRegressor, GradientBoostingRegressor, VotingRegressor, StackingRegressor\n",
    "from sklearn.neural_network import MLPRegressor\n",
    "from sklearn.pipeline import make_pipeline\n",
    "\n",
    "from sklearn.metrics import r2_score\n",
    "import joblib"
   ]
  },
  {
   "cell_type": "markdown",
   "metadata": {},
   "source": [
    "## **Connect to Redshift Cluster**"
   ]
  },
  {
   "cell_type": "code",
   "execution_count": 3,
   "metadata": {},
   "outputs": [
    {
     "data": {
      "text/plain": [
       "True"
      ]
     },
     "execution_count": 3,
     "metadata": {},
     "output_type": "execute_result"
    }
   ],
   "source": [
    "# Load environment variables from .env file\n",
    "load_dotenv()"
   ]
  },
  {
   "cell_type": "code",
   "execution_count": 4,
   "metadata": {},
   "outputs": [],
   "source": [
    "# Retrieve values from environment variables\n",
    "host = os.getenv(\"REDSHIFT_HOST\")\n",
    "database = os.getenv(\"REDSHIFT_DATABASE\")\n",
    "user = os.getenv(\"REDSHIFT_USER\")\n",
    "password = os.getenv(\"REDSHIFT_PASSWORD\")\n",
    "port = os.getenv(\"REDSHIFT_PORT\")"
   ]
  },
  {
   "cell_type": "code",
   "execution_count": 5,
   "metadata": {},
   "outputs": [
    {
     "name": "stdout",
     "output_type": "stream",
     "text": [
      "Connection to AWS Redshift successful!\n"
     ]
    }
   ],
   "source": [
    "# Connect to the cluster\n",
    "try:\n",
    "    conn = redshift_connector.connect(\n",
    "        host=host,\n",
    "        database=database,\n",
    "        user=user,\n",
    "        password=password,\n",
    "        port=port\n",
    "    )\n",
    "    print(\"Connection to AWS Redshift successful!\")\n",
    "except Exception as e:\n",
    "    print(\"Error connecting to AWS Redshift:\", e)"
   ]
  },
  {
   "cell_type": "markdown",
   "metadata": {},
   "source": [
    "## **Fetch entire data**"
   ]
  },
  {
   "cell_type": "code",
   "execution_count": 6,
   "metadata": {},
   "outputs": [],
   "source": [
    "query = \"select * from public.data\"\n",
    "data = pd.read_sql(query, conn)"
   ]
  },
  {
   "cell_type": "code",
   "execution_count": 7,
   "metadata": {},
   "outputs": [
    {
     "data": {
      "text/html": [
       "<div>\n",
       "<style scoped>\n",
       "    .dataframe tbody tr th:only-of-type {\n",
       "        vertical-align: middle;\n",
       "    }\n",
       "\n",
       "    .dataframe tbody tr th {\n",
       "        vertical-align: top;\n",
       "    }\n",
       "\n",
       "    .dataframe thead th {\n",
       "        text-align: right;\n",
       "    }\n",
       "</style>\n",
       "<table border=\"1\" class=\"dataframe\">\n",
       "  <thead>\n",
       "    <tr style=\"text-align: right;\">\n",
       "      <th></th>\n",
       "      <th>item_identifier</th>\n",
       "      <th>item_weight</th>\n",
       "      <th>item_fat_content</th>\n",
       "      <th>item_visibility</th>\n",
       "      <th>item_type</th>\n",
       "      <th>item_mrp</th>\n",
       "      <th>outlet_identifier</th>\n",
       "      <th>outlet_establishment_year</th>\n",
       "      <th>outlet_size</th>\n",
       "      <th>outlet_location_type</th>\n",
       "      <th>outlet_type</th>\n",
       "      <th>item_outlet_sales</th>\n",
       "    </tr>\n",
       "  </thead>\n",
       "  <tbody>\n",
       "    <tr>\n",
       "      <th>0</th>\n",
       "      <td>DRC01</td>\n",
       "      <td>5.920</td>\n",
       "      <td>Regular</td>\n",
       "      <td>0.019278</td>\n",
       "      <td>Soft Drinks</td>\n",
       "      <td>48.269199</td>\n",
       "      <td>OUT018</td>\n",
       "      <td>2009</td>\n",
       "      <td>Medium</td>\n",
       "      <td>Tier 3</td>\n",
       "      <td>Supermarket Type2</td>\n",
       "      <td>443.4228</td>\n",
       "    </tr>\n",
       "    <tr>\n",
       "      <th>1</th>\n",
       "      <td>FDN15</td>\n",
       "      <td>17.500</td>\n",
       "      <td>Low Fat</td>\n",
       "      <td>0.016760</td>\n",
       "      <td>Meat</td>\n",
       "      <td>141.617996</td>\n",
       "      <td>OUT049</td>\n",
       "      <td>1999</td>\n",
       "      <td>Medium</td>\n",
       "      <td>Tier 1</td>\n",
       "      <td>Supermarket Type1</td>\n",
       "      <td>2097.2700</td>\n",
       "    </tr>\n",
       "    <tr>\n",
       "      <th>2</th>\n",
       "      <td>NCD19</td>\n",
       "      <td>8.930</td>\n",
       "      <td>Low Fat</td>\n",
       "      <td>0.000000</td>\n",
       "      <td>Household</td>\n",
       "      <td>53.861401</td>\n",
       "      <td>OUT013</td>\n",
       "      <td>1987</td>\n",
       "      <td>High</td>\n",
       "      <td>Tier 3</td>\n",
       "      <td>Supermarket Type1</td>\n",
       "      <td>994.7052</td>\n",
       "    </tr>\n",
       "    <tr>\n",
       "      <th>3</th>\n",
       "      <td>FDP36</td>\n",
       "      <td>10.395</td>\n",
       "      <td>Regular</td>\n",
       "      <td>0.000000</td>\n",
       "      <td>Baking Goods</td>\n",
       "      <td>51.400799</td>\n",
       "      <td>OUT018</td>\n",
       "      <td>2009</td>\n",
       "      <td>Medium</td>\n",
       "      <td>Tier 3</td>\n",
       "      <td>Supermarket Type2</td>\n",
       "      <td>556.6088</td>\n",
       "    </tr>\n",
       "    <tr>\n",
       "      <th>4</th>\n",
       "      <td>FDO10</td>\n",
       "      <td>13.650</td>\n",
       "      <td>Regular</td>\n",
       "      <td>0.012741</td>\n",
       "      <td>Snack Foods</td>\n",
       "      <td>57.658798</td>\n",
       "      <td>OUT013</td>\n",
       "      <td>1987</td>\n",
       "      <td>High</td>\n",
       "      <td>Tier 3</td>\n",
       "      <td>Supermarket Type1</td>\n",
       "      <td>343.5528</td>\n",
       "    </tr>\n",
       "  </tbody>\n",
       "</table>\n",
       "</div>"
      ],
      "text/plain": [
       "  item_identifier  item_weight item_fat_content  item_visibility  \\\n",
       "0           DRC01        5.920          Regular         0.019278   \n",
       "1           FDN15       17.500          Low Fat         0.016760   \n",
       "2           NCD19        8.930          Low Fat         0.000000   \n",
       "3           FDP36       10.395          Regular         0.000000   \n",
       "4           FDO10       13.650          Regular         0.012741   \n",
       "\n",
       "      item_type    item_mrp outlet_identifier  outlet_establishment_year  \\\n",
       "0   Soft Drinks   48.269199            OUT018                       2009   \n",
       "1          Meat  141.617996            OUT049                       1999   \n",
       "2     Household   53.861401            OUT013                       1987   \n",
       "3  Baking Goods   51.400799            OUT018                       2009   \n",
       "4   Snack Foods   57.658798            OUT013                       1987   \n",
       "\n",
       "  outlet_size outlet_location_type        outlet_type  item_outlet_sales  \n",
       "0      Medium               Tier 3  Supermarket Type2           443.4228  \n",
       "1      Medium               Tier 1  Supermarket Type1          2097.2700  \n",
       "2        High               Tier 3  Supermarket Type1           994.7052  \n",
       "3      Medium               Tier 3  Supermarket Type2           556.6088  \n",
       "4        High               Tier 3  Supermarket Type1           343.5528  "
      ]
     },
     "execution_count": 7,
     "metadata": {},
     "output_type": "execute_result"
    }
   ],
   "source": [
    "data.head()"
   ]
  },
  {
   "cell_type": "code",
   "execution_count": 8,
   "metadata": {},
   "outputs": [],
   "source": [
    "# Save the data\n",
    "data.to_csv(\"../data/data.csv\")"
   ]
  },
  {
   "cell_type": "markdown",
   "metadata": {},
   "source": [
    "## **Data Preprocessing**"
   ]
  },
  {
   "cell_type": "code",
   "execution_count": 9,
   "metadata": {},
   "outputs": [
    {
     "data": {
      "text/html": [
       "<div>\n",
       "<style scoped>\n",
       "    .dataframe tbody tr th:only-of-type {\n",
       "        vertical-align: middle;\n",
       "    }\n",
       "\n",
       "    .dataframe tbody tr th {\n",
       "        vertical-align: top;\n",
       "    }\n",
       "\n",
       "    .dataframe thead th {\n",
       "        text-align: right;\n",
       "    }\n",
       "</style>\n",
       "<table border=\"1\" class=\"dataframe\">\n",
       "  <thead>\n",
       "    <tr style=\"text-align: right;\">\n",
       "      <th></th>\n",
       "      <th>item_identifier</th>\n",
       "      <th>item_weight</th>\n",
       "      <th>item_fat_content</th>\n",
       "      <th>item_visibility</th>\n",
       "      <th>item_type</th>\n",
       "      <th>item_mrp</th>\n",
       "      <th>outlet_identifier</th>\n",
       "      <th>outlet_establishment_year</th>\n",
       "      <th>outlet_size</th>\n",
       "      <th>outlet_location_type</th>\n",
       "      <th>outlet_type</th>\n",
       "      <th>item_outlet_sales</th>\n",
       "    </tr>\n",
       "  </thead>\n",
       "  <tbody>\n",
       "    <tr>\n",
       "      <th>0</th>\n",
       "      <td>FDN52</td>\n",
       "      <td>None</td>\n",
       "      <td>Regular</td>\n",
       "      <td>0.130933</td>\n",
       "      <td>Frozen Foods</td>\n",
       "      <td>86.919800</td>\n",
       "      <td>OUT027</td>\n",
       "      <td>1985</td>\n",
       "      <td>Medium</td>\n",
       "      <td>Tier 3</td>\n",
       "      <td>Supermarket Type3</td>\n",
       "      <td>1569.9564</td>\n",
       "    </tr>\n",
       "    <tr>\n",
       "      <th>1</th>\n",
       "      <td>FDK57</td>\n",
       "      <td>None</td>\n",
       "      <td>Low Fat</td>\n",
       "      <td>0.079904</td>\n",
       "      <td>Snack Foods</td>\n",
       "      <td>120.043999</td>\n",
       "      <td>OUT027</td>\n",
       "      <td>1985</td>\n",
       "      <td>Medium</td>\n",
       "      <td>Tier 3</td>\n",
       "      <td>Supermarket Type3</td>\n",
       "      <td>4434.2280</td>\n",
       "    </tr>\n",
       "    <tr>\n",
       "      <th>2</th>\n",
       "      <td>FDE52</td>\n",
       "      <td>None</td>\n",
       "      <td>Regular</td>\n",
       "      <td>0.029742</td>\n",
       "      <td>Dairy</td>\n",
       "      <td>88.951401</td>\n",
       "      <td>OUT027</td>\n",
       "      <td>1985</td>\n",
       "      <td>Medium</td>\n",
       "      <td>Tier 3</td>\n",
       "      <td>Supermarket Type3</td>\n",
       "      <td>3453.5046</td>\n",
       "    </tr>\n",
       "    <tr>\n",
       "      <th>3</th>\n",
       "      <td>FDQ60</td>\n",
       "      <td>None</td>\n",
       "      <td>Regular</td>\n",
       "      <td>0.191501</td>\n",
       "      <td>Baking Goods</td>\n",
       "      <td>121.209801</td>\n",
       "      <td>OUT019</td>\n",
       "      <td>1985</td>\n",
       "      <td>Small</td>\n",
       "      <td>Tier 1</td>\n",
       "      <td>Grocery Store</td>\n",
       "      <td>120.5098</td>\n",
       "    </tr>\n",
       "  </tbody>\n",
       "</table>\n",
       "</div>"
      ],
      "text/plain": [
       "  item_identifier item_weight item_fat_content  item_visibility     item_type  \\\n",
       "0           FDN52        None          Regular         0.130933  Frozen Foods   \n",
       "1           FDK57        None          Low Fat         0.079904   Snack Foods   \n",
       "2           FDE52        None          Regular         0.029742         Dairy   \n",
       "3           FDQ60        None          Regular         0.191501  Baking Goods   \n",
       "\n",
       "     item_mrp outlet_identifier  outlet_establishment_year outlet_size  \\\n",
       "0   86.919800            OUT027                       1985      Medium   \n",
       "1  120.043999            OUT027                       1985      Medium   \n",
       "2   88.951401            OUT027                       1985      Medium   \n",
       "3  121.209801            OUT019                       1985       Small   \n",
       "\n",
       "  outlet_location_type        outlet_type  item_outlet_sales  \n",
       "0               Tier 3  Supermarket Type3          1569.9564  \n",
       "1               Tier 3  Supermarket Type3          4434.2280  \n",
       "2               Tier 3  Supermarket Type3          3453.5046  \n",
       "3               Tier 1      Grocery Store           120.5098  "
      ]
     },
     "execution_count": 9,
     "metadata": {},
     "output_type": "execute_result"
    }
   ],
   "source": [
    "# Find out rows where `item_weight` is missing -> already checked using this query in AWS Redshift\n",
    "query = \"SELECT * FROM public.data WHERE item_weight IS NULL;\"\n",
    "data = pd.read_sql(query, conn)\n",
    "data.head()"
   ]
  },
  {
   "cell_type": "code",
   "execution_count": 10,
   "metadata": {},
   "outputs": [
    {
     "data": {
      "text/plain": [
       "'\\ncursor = conn.cursor()\\n\\nsql_string_update = \"\"\"UPDATE public.data\\n                       SET item_weight = b.maxweight\\n                       FROM public.data a\\n                       INNER JOIN\\n                            (\\n                                SELECT item_identifier, MAX(item_weight) AS maxweight\\n                                FROM public.data\\n                                GROUP BY item_identifier\\n                            ) b\\n                       ON a.item_identifier = b.item_identifier\\n                       WHERE a.item_weight IS NULL;\"\"\"\\n\\nsql_ = sql_string_update.format(\"Null\")\\n\\ncursor.execute(sql_string_update)\\n\\nconn.commit()\\n'"
      ]
     },
     "execution_count": 10,
     "metadata": {},
     "output_type": "execute_result"
    }
   ],
   "source": [
    "# Filling missing records with respect to values from other columns -> already updated using this query in AWS Redshift\n",
    "'''\n",
    "cursor = conn.cursor()\n",
    "\n",
    "sql_string_update = \"\"\"UPDATE public.data\n",
    "                       SET item_weight = b.maxweight\n",
    "                       FROM public.data a\n",
    "                       INNER JOIN\n",
    "                            (\n",
    "                                SELECT item_identifier, MAX(item_weight) AS maxweight\n",
    "                                FROM public.data\n",
    "                                GROUP BY item_identifier\n",
    "                            ) b\n",
    "                       ON a.item_identifier = b.item_identifier\n",
    "                       WHERE a.item_weight IS NULL;\"\"\"\n",
    "\n",
    "sql_ = sql_string_update.format(\"Null\")\n",
    "\n",
    "cursor.execute(sql_string_update)\n",
    "\n",
    "conn.commit()\n",
    "'''"
   ]
  },
  {
   "cell_type": "markdown",
   "metadata": {},
   "source": [
    "#### Fill missing values of `outlet_size` column by \"Small\""
   ]
  },
  {
   "cell_type": "code",
   "execution_count": 11,
   "metadata": {},
   "outputs": [],
   "source": [
    "cursor = conn.cursor()\n",
    "# Define the SQL query with placeholders\n",
    "sql_string_update = \"\"\"UPDATE public.data SET outlet_size = %s WHERE outlet_size = %s;\"\"\"\n",
    "# Define the values to use in the query\n",
    "params = ('Small', '')\n",
    "# Execute the query with parameters\n",
    "cursor.execute(sql_string_update, params)\n",
    "# Commit the changes\n",
    "conn.commit()"
   ]
  },
  {
   "cell_type": "code",
   "execution_count": 12,
   "metadata": {},
   "outputs": [
    {
     "data": {
      "text/html": [
       "<div>\n",
       "<style scoped>\n",
       "    .dataframe tbody tr th:only-of-type {\n",
       "        vertical-align: middle;\n",
       "    }\n",
       "\n",
       "    .dataframe tbody tr th {\n",
       "        vertical-align: top;\n",
       "    }\n",
       "\n",
       "    .dataframe thead th {\n",
       "        text-align: right;\n",
       "    }\n",
       "</style>\n",
       "<table border=\"1\" class=\"dataframe\">\n",
       "  <thead>\n",
       "    <tr style=\"text-align: right;\">\n",
       "      <th></th>\n",
       "      <th>item_identifier</th>\n",
       "      <th>item_weight</th>\n",
       "      <th>item_fat_content</th>\n",
       "      <th>item_visibility</th>\n",
       "      <th>item_type</th>\n",
       "      <th>item_mrp</th>\n",
       "      <th>outlet_identifier</th>\n",
       "      <th>outlet_establishment_year</th>\n",
       "      <th>outlet_size</th>\n",
       "      <th>outlet_location_type</th>\n",
       "      <th>outlet_type</th>\n",
       "      <th>item_outlet_sales</th>\n",
       "    </tr>\n",
       "  </thead>\n",
       "  <tbody>\n",
       "    <tr>\n",
       "      <th>0</th>\n",
       "      <td>DRC01</td>\n",
       "      <td>5.920</td>\n",
       "      <td>Regular</td>\n",
       "      <td>0.019278</td>\n",
       "      <td>Soft Drinks</td>\n",
       "      <td>48.269199</td>\n",
       "      <td>OUT018</td>\n",
       "      <td>2009</td>\n",
       "      <td>Medium</td>\n",
       "      <td>Tier 3</td>\n",
       "      <td>Supermarket Type2</td>\n",
       "      <td>443.4228</td>\n",
       "    </tr>\n",
       "    <tr>\n",
       "      <th>1</th>\n",
       "      <td>FDN15</td>\n",
       "      <td>17.500</td>\n",
       "      <td>Low Fat</td>\n",
       "      <td>0.016760</td>\n",
       "      <td>Meat</td>\n",
       "      <td>141.617996</td>\n",
       "      <td>OUT049</td>\n",
       "      <td>1999</td>\n",
       "      <td>Medium</td>\n",
       "      <td>Tier 1</td>\n",
       "      <td>Supermarket Type1</td>\n",
       "      <td>2097.2700</td>\n",
       "    </tr>\n",
       "    <tr>\n",
       "      <th>2</th>\n",
       "      <td>NCD19</td>\n",
       "      <td>8.930</td>\n",
       "      <td>Low Fat</td>\n",
       "      <td>0.000000</td>\n",
       "      <td>Household</td>\n",
       "      <td>53.861401</td>\n",
       "      <td>OUT013</td>\n",
       "      <td>1987</td>\n",
       "      <td>High</td>\n",
       "      <td>Tier 3</td>\n",
       "      <td>Supermarket Type1</td>\n",
       "      <td>994.7052</td>\n",
       "    </tr>\n",
       "    <tr>\n",
       "      <th>3</th>\n",
       "      <td>FDP36</td>\n",
       "      <td>10.395</td>\n",
       "      <td>Regular</td>\n",
       "      <td>0.000000</td>\n",
       "      <td>Baking Goods</td>\n",
       "      <td>51.400799</td>\n",
       "      <td>OUT018</td>\n",
       "      <td>2009</td>\n",
       "      <td>Medium</td>\n",
       "      <td>Tier 3</td>\n",
       "      <td>Supermarket Type2</td>\n",
       "      <td>556.6088</td>\n",
       "    </tr>\n",
       "    <tr>\n",
       "      <th>4</th>\n",
       "      <td>FDO10</td>\n",
       "      <td>13.650</td>\n",
       "      <td>Regular</td>\n",
       "      <td>0.012741</td>\n",
       "      <td>Snack Foods</td>\n",
       "      <td>57.658798</td>\n",
       "      <td>OUT013</td>\n",
       "      <td>1987</td>\n",
       "      <td>High</td>\n",
       "      <td>Tier 3</td>\n",
       "      <td>Supermarket Type1</td>\n",
       "      <td>343.5528</td>\n",
       "    </tr>\n",
       "  </tbody>\n",
       "</table>\n",
       "</div>"
      ],
      "text/plain": [
       "  item_identifier  item_weight item_fat_content  item_visibility  \\\n",
       "0           DRC01        5.920          Regular         0.019278   \n",
       "1           FDN15       17.500          Low Fat         0.016760   \n",
       "2           NCD19        8.930          Low Fat         0.000000   \n",
       "3           FDP36       10.395          Regular         0.000000   \n",
       "4           FDO10       13.650          Regular         0.012741   \n",
       "\n",
       "      item_type    item_mrp outlet_identifier  outlet_establishment_year  \\\n",
       "0   Soft Drinks   48.269199            OUT018                       2009   \n",
       "1          Meat  141.617996            OUT049                       1999   \n",
       "2     Household   53.861401            OUT013                       1987   \n",
       "3  Baking Goods   51.400799            OUT018                       2009   \n",
       "4   Snack Foods   57.658798            OUT013                       1987   \n",
       "\n",
       "  outlet_size outlet_location_type        outlet_type  item_outlet_sales  \n",
       "0      Medium               Tier 3  Supermarket Type2           443.4228  \n",
       "1      Medium               Tier 1  Supermarket Type1          2097.2700  \n",
       "2        High               Tier 3  Supermarket Type1           994.7052  \n",
       "3      Medium               Tier 3  Supermarket Type2           556.6088  \n",
       "4        High               Tier 3  Supermarket Type1           343.5528  "
      ]
     },
     "execution_count": 12,
     "metadata": {},
     "output_type": "execute_result"
    }
   ],
   "source": [
    "# Load the data again\n",
    "query = \"SELECT * FROM public.data;\"\n",
    "data = pd.read_sql(query, conn)\n",
    "data.head()"
   ]
  },
  {
   "cell_type": "code",
   "execution_count": 13,
   "metadata": {},
   "outputs": [],
   "source": [
    "# Close the connection\n",
    "conn.close()"
   ]
  },
  {
   "cell_type": "code",
   "execution_count": 14,
   "metadata": {},
   "outputs": [
    {
     "data": {
      "text/plain": [
       "array(['Medium', 'High', 'Small'], dtype=object)"
      ]
     },
     "execution_count": 14,
     "metadata": {},
     "output_type": "execute_result"
    }
   ],
   "source": [
    "# After imputation, let's check the unique values present in `outlet_size` column. Expectation: No '' values\n",
    "data[\"outlet_size\"].unique()"
   ]
  },
  {
   "cell_type": "markdown",
   "metadata": {},
   "source": [
    "## **Exploratory Data Analysis**"
   ]
  },
  {
   "cell_type": "code",
   "execution_count": 15,
   "metadata": {},
   "outputs": [
    {
     "name": "stdout",
     "output_type": "stream",
     "text": [
      "<class 'pandas.core.frame.DataFrame'>\n",
      "RangeIndex: 8522 entries, 0 to 8521\n",
      "Data columns (total 12 columns):\n",
      " #   Column                     Non-Null Count  Dtype  \n",
      "---  ------                     --------------  -----  \n",
      " 0   item_identifier            8522 non-null   object \n",
      " 1   item_weight                8518 non-null   float64\n",
      " 2   item_fat_content           8522 non-null   object \n",
      " 3   item_visibility            8522 non-null   float64\n",
      " 4   item_type                  8522 non-null   object \n",
      " 5   item_mrp                   8522 non-null   float64\n",
      " 6   outlet_identifier          8522 non-null   object \n",
      " 7   outlet_establishment_year  8522 non-null   int64  \n",
      " 8   outlet_size                8522 non-null   object \n",
      " 9   outlet_location_type       8522 non-null   object \n",
      " 10  outlet_type                8522 non-null   object \n",
      " 11  item_outlet_sales          8522 non-null   float64\n",
      "dtypes: float64(4), int64(1), object(7)\n",
      "memory usage: 799.1+ KB\n"
     ]
    }
   ],
   "source": [
    "# Display a concise summary of the DataFrame, including the index dtype, column data types, non-null values, and memory usage\n",
    "data.info()"
   ]
  },
  {
   "cell_type": "markdown",
   "metadata": {},
   "source": [
    "**Observation:**\n",
    "\n",
    "There are 8523 records present in all the columns, except in `item_weight` column. We have already seen it after fetching the data from AWS Redshift database. We can remove these 4 records."
   ]
  },
  {
   "cell_type": "code",
   "execution_count": 16,
   "metadata": {},
   "outputs": [],
   "source": [
    "# Filter rows where 'item_weight' column is not NaN (i.e., keep only rows with non-null values in 'item_weight')\n",
    "df = data[data['item_weight'].notna()]"
   ]
  },
  {
   "cell_type": "code",
   "execution_count": 17,
   "metadata": {},
   "outputs": [
    {
     "name": "stdout",
     "output_type": "stream",
     "text": [
      "<class 'pandas.core.frame.DataFrame'>\n",
      "Index: 8518 entries, 0 to 8521\n",
      "Data columns (total 12 columns):\n",
      " #   Column                     Non-Null Count  Dtype  \n",
      "---  ------                     --------------  -----  \n",
      " 0   item_identifier            8518 non-null   object \n",
      " 1   item_weight                8518 non-null   float64\n",
      " 2   item_fat_content           8518 non-null   object \n",
      " 3   item_visibility            8518 non-null   float64\n",
      " 4   item_type                  8518 non-null   object \n",
      " 5   item_mrp                   8518 non-null   float64\n",
      " 6   outlet_identifier          8518 non-null   object \n",
      " 7   outlet_establishment_year  8518 non-null   int64  \n",
      " 8   outlet_size                8518 non-null   object \n",
      " 9   outlet_location_type       8518 non-null   object \n",
      " 10  outlet_type                8518 non-null   object \n",
      " 11  item_outlet_sales          8518 non-null   float64\n",
      "dtypes: float64(4), int64(1), object(7)\n",
      "memory usage: 865.1+ KB\n"
     ]
    }
   ],
   "source": [
    "# Display a concise summary of the DataFrame\n",
    "df.info()"
   ]
  },
  {
   "cell_type": "markdown",
   "metadata": {},
   "source": [
    "### 1. Categorical Variable Analysis\n",
    "\n",
    "* **item_fat_content:**"
   ]
  },
  {
   "cell_type": "code",
   "execution_count": 18,
   "metadata": {},
   "outputs": [
    {
     "data": {
      "text/plain": [
       "item_fat_content\n",
       "Low Fat    5087\n",
       "Regular    2886\n",
       "LF          316\n",
       "reg         117\n",
       "low fat     112\n",
       "Name: count, dtype: int64"
      ]
     },
     "execution_count": 18,
     "metadata": {},
     "output_type": "execute_result"
    }
   ],
   "source": [
    "# Count the occurrences of each unique value in the 'item_fat_content' column\n",
    "df[\"item_fat_content\"].value_counts()"
   ]
  },
  {
   "cell_type": "markdown",
   "metadata": {},
   "source": [
    "**Observation:**\n",
    "The `item_fat_content` column has inconsistent labels for similar categories (e.g., \"Low Fat\" and \"low fat\" or \"LF\"; \"Regular\" and \"reg\"). This suggests variations in how fat content is labeled, which could lead to incorrect analysis or insights.\n",
    "\n",
    "**Next Actions:**\n",
    "\n",
    "1. Standardize Labels: Replace variations with consistent labels (e.g., convert all \"low fat\" and \"LF\" to \"Low Fat\" and \"reg\" to \"Regular\") to ensure accurate grouping and analysis.\n",
    "2. Recheck Value Counts: After standardizing, re-run value_counts() to confirm that categories are consolidated correctly."
   ]
  },
  {
   "cell_type": "code",
   "execution_count": 19,
   "metadata": {},
   "outputs": [],
   "source": [
    "# Define the replacement dictionary\n",
    "replacement_dict = {\n",
    "    'item_fat_content': {\n",
    "        'low fat': 'Low Fat',\n",
    "        'LF': 'Low Fat',\n",
    "        'reg': 'Regular'\n",
    "    }\n",
    "}"
   ]
  },
  {
   "cell_type": "code",
   "execution_count": 20,
   "metadata": {},
   "outputs": [],
   "source": [
    "# Replace the values in the DataFrame \n",
    "df.replace(replacement_dict, inplace=True)"
   ]
  },
  {
   "cell_type": "code",
   "execution_count": 21,
   "metadata": {},
   "outputs": [
    {
     "name": "stdout",
     "output_type": "stream",
     "text": [
      "item_fat_content\n",
      "Low Fat    5515\n",
      "Regular    3003\n",
      "Name: count, dtype: int64\n"
     ]
    }
   ],
   "source": [
    "# Verify the changes\n",
    "print(df['item_fat_content'].value_counts())"
   ]
  },
  {
   "cell_type": "markdown",
   "metadata": {},
   "source": [
    "* **item_type:**"
   ]
  },
  {
   "cell_type": "code",
   "execution_count": 22,
   "metadata": {},
   "outputs": [
    {
     "data": {
      "text/plain": [
       "item_type\n",
       "Fruits and Vegetables    1232\n",
       "Snack Foods              1199\n",
       "Household                 910\n",
       "Frozen Foods              855\n",
       "Dairy                     680\n",
       "Canned                    649\n",
       "Baking Goods              647\n",
       "Health and Hygiene        520\n",
       "Soft Drinks               445\n",
       "Meat                      425\n",
       "Breads                    251\n",
       "Hard Drinks               214\n",
       "Others                    169\n",
       "Starchy Foods             148\n",
       "Breakfast                 110\n",
       "Seafood                    64\n",
       "Name: count, dtype: int64"
      ]
     },
     "execution_count": 22,
     "metadata": {},
     "output_type": "execute_result"
    }
   ],
   "source": [
    "# Count the occurrences of each unique value in the 'item_type' column\n",
    "df[\"item_type\"].value_counts()"
   ]
  },
  {
   "cell_type": "markdown",
   "metadata": {},
   "source": [
    "* **outlet_size:**"
   ]
  },
  {
   "cell_type": "code",
   "execution_count": 23,
   "metadata": {},
   "outputs": [
    {
     "data": {
      "text/plain": [
       "<Axes: xlabel='outlet_size', ylabel='count'>"
      ]
     },
     "execution_count": 23,
     "metadata": {},
     "output_type": "execute_result"
    },
    {
     "data": {
      "image/png": "[encoded data removed]",
      "text/plain": [
       "<Figure size 1000x1000 with 1 Axes>"
      ]
     },
     "metadata": {},
     "output_type": "display_data"
    }
   ],
   "source": [
    "# Set the figure size and create a count plot to visualize the distribution of values in the 'outlet_size' column\n",
    "plt.figure(figsize=(10,10))\n",
    "sns.countplot(x='outlet_size',data=df)"
   ]
  },
  {
   "cell_type": "markdown",
   "metadata": {},
   "source": [
    "**Observation:** \n",
    "\n",
    "`Small` Outlet size stores are much more in number."
   ]
  },
  {
   "cell_type": "markdown",
   "metadata": {},
   "source": [
    "* **outlet_type:**"
   ]
  },
  {
   "cell_type": "code",
   "execution_count": 24,
   "metadata": {},
   "outputs": [
    {
     "data": {
      "text/plain": [
       "<Axes: xlabel='outlet_type', ylabel='count'>"
      ]
     },
     "execution_count": 24,
     "metadata": {},
     "output_type": "execute_result"
    },
    {
     "data": {
      "image/png": "[encoded data removed]",
      "text/plain": [
       "<Figure size 1000x1000 with 1 Axes>"
      ]
     },
     "metadata": {},
     "output_type": "display_data"
    }
   ],
   "source": [
    "# Set the figure size and create a count plot to visualize the distribution of values in the 'outlet_type' column\n",
    "plt.figure(figsize=(10,10))\n",
    "sns.countplot(x='outlet_type',data=df)"
   ]
  },
  {
   "cell_type": "markdown",
   "metadata": {},
   "source": [
    "**Observation:** \n",
    "\n",
    "`Supermarket Type1` is the most frequent outlet type in the data."
   ]
  },
  {
   "cell_type": "markdown",
   "metadata": {},
   "source": [
    "* **outlet_establishment_year:**"
   ]
  },
  {
   "cell_type": "code",
   "execution_count": 25,
   "metadata": {},
   "outputs": [
    {
     "data": {
      "text/plain": [
       "<Axes: xlabel='outlet_establishment_year', ylabel='count'>"
      ]
     },
     "execution_count": 25,
     "metadata": {},
     "output_type": "execute_result"
    },
    {
     "data": {
      "image/png": "[encoded data removed]",
      "text/plain": [
       "<Figure size 1000x1000 with 1 Axes>"
      ]
     },
     "metadata": {},
     "output_type": "display_data"
    }
   ],
   "source": [
    "# Set the figure size and create a count plot to visualize the distribution of values in the 'outlet_establishment_year' column\n",
    "plt.figure(figsize=(10,10))\n",
    "sns.countplot(x='outlet_establishment_year',data=df)"
   ]
  },
  {
   "cell_type": "markdown",
   "metadata": {},
   "source": [
    "**Observation:** \n",
    "\n",
    "Most stores were opened in the year 1985 and least in 1998."
   ]
  },
  {
   "cell_type": "markdown",
   "metadata": {},
   "source": [
    "### 2. Continuous variable analysis\n",
    "\n",
    "* **item_weight:**"
   ]
  },
  {
   "cell_type": "code",
   "execution_count": 26,
   "metadata": {},
   "outputs": [
    {
     "data": {
      "text/plain": [
       "<Axes: xlabel='item_weight', ylabel='Density'>"
      ]
     },
     "execution_count": 26,
     "metadata": {},
     "output_type": "execute_result"
    },
    {
     "data": {
      "image/png": "[encoded data removed]",
      "text/plain": [
       "<Figure size 640x480 with 1 Axes>"
      ]
     },
     "metadata": {},
     "output_type": "display_data"
    }
   ],
   "source": [
    "# Plot the distribution of 'item_weight' to observe its original spread and detect skewness or uniformity\n",
    "sns.distplot(df['item_weight'],color='red')"
   ]
  },
  {
   "cell_type": "markdown",
   "metadata": {},
   "source": [
    "**Observation:**\n",
    "\n",
    "The distribution plot of item_weight shows a roughly uniform distribution with multiple small peaks and a relatively flat structure, indicating that the item weights are spread fairly evenly across the range, with no strong central tendency. This might suggest that no single weight range dominates, and there is a variety of item weights."
   ]
  },
  {
   "cell_type": "code",
   "execution_count": 27,
   "metadata": {},
   "outputs": [
    {
     "data": {
      "text/plain": [
       "<Axes: xlabel='item_weight', ylabel='Density'>"
      ]
     },
     "execution_count": 27,
     "metadata": {},
     "output_type": "execute_result"
    },
    {
     "data": {
      "image/png": "[encoded data removed]",
      "text/plain": [
       "<Figure size 640x480 with 1 Axes>"
      ]
     },
     "metadata": {},
     "output_type": "display_data"
    }
   ],
   "source": [
    "# Plot the distribution of the logarithmic transformation of 'item_weight' to normalize skewness, using a red color\n",
    "sns.distplot(np.log(df['item_weight']),color='red')"
   ]
  },
  {
   "cell_type": "markdown",
   "metadata": {},
   "source": [
    "**Observation:**\n",
    "\n",
    "The logarithmic transformation of item_weight shows a positively skewed distribution, with a primary peak near 2.75. This suggests that the majority of item weights, after log transformation, cluster around this value. The log transformation has reduced the skewness to some extent, making the distribution more symmetrical than it would be in the original scale, which can improve the performance of models sensitive to normally distributed features.\n",
    "\n",
    "**Next Probable Action:**\n",
    "\n",
    "Consider `standardizing` or `normalizing` the `item_weight` data if required by modeling approach, as this can further enhance model performance by ensuring consistent scale across features."
   ]
  },
  {
   "cell_type": "markdown",
   "metadata": {},
   "source": [
    "* **item_visibility:**"
   ]
  },
  {
   "cell_type": "code",
   "execution_count": 28,
   "metadata": {},
   "outputs": [
    {
     "data": {
      "text/plain": [
       "<Axes: xlabel='item_visibility', ylabel='Density'>"
      ]
     },
     "execution_count": 28,
     "metadata": {},
     "output_type": "execute_result"
    },
    {
     "data": {
      "image/png": "[encoded data removed]",
      "text/plain": [
       "<Figure size 640x480 with 1 Axes>"
      ]
     },
     "metadata": {},
     "output_type": "display_data"
    }
   ],
   "source": [
    "# Plot the distribution of 'item_visibility' to assess its spread and skewness\n",
    "sns.distplot(df['item_visibility'],color='red')"
   ]
  },
  {
   "cell_type": "markdown",
   "metadata": {},
   "source": [
    "**Observation:**\n",
    "\n",
    "The `item_visibility` distribution is highly skewed to the right, with most values concentrated near zero and a long tail extending towards higher values. This suggests that a majority of items have low visibility, with a few items having significantly higher visibility.\n",
    "\n",
    "**Next Probable Action:**\n",
    "\n",
    "Consider applying a `logarithmic` or other `power transformation` to reduce skewness and normalize the distribution. This can improve the feature's suitability for machine learning models that assume a normal distribution."
   ]
  },
  {
   "cell_type": "markdown",
   "metadata": {},
   "source": [
    "* **item_mrp:**"
   ]
  },
  {
   "cell_type": "code",
   "execution_count": 29,
   "metadata": {},
   "outputs": [
    {
     "data": {
      "text/plain": [
       "<Axes: xlabel='item_mrp', ylabel='Density'>"
      ]
     },
     "execution_count": 29,
     "metadata": {},
     "output_type": "execute_result"
    },
    {
     "data": {
      "image/png": "[encoded data removed]",
      "text/plain": [
       "<Figure size 640x480 with 1 Axes>"
      ]
     },
     "metadata": {},
     "output_type": "display_data"
    }
   ],
   "source": [
    "# Plot the distribution of 'item_mrp' to observe pricing clusters and distribution characteristics\n",
    "sns.distplot(df['item_mrp'],color='blue')"
   ]
  },
  {
   "cell_type": "markdown",
   "metadata": {},
   "source": [
    "**Observation:**\n",
    "\n",
    "The distribution of item_mrp (Maximum Retail Price) appears multimodal, with multiple peaks across different price ranges, indicating varied pricing clusters within the data. This suggests that the items are priced in distinct groups rather than having a continuous, uniform distribution."
   ]
  },
  {
   "cell_type": "code",
   "execution_count": 30,
   "metadata": {},
   "outputs": [
    {
     "data": {
      "text/plain": [
       "<Axes: xlabel='item_mrp', ylabel='Density'>"
      ]
     },
     "execution_count": 30,
     "metadata": {},
     "output_type": "execute_result"
    },
    {
     "data": {
      "image/png": "[encoded data removed]",
      "text/plain": [
       "<Figure size 640x480 with 1 Axes>"
      ]
     },
     "metadata": {},
     "output_type": "display_data"
    }
   ],
   "source": [
    "#MRP\n",
    "sns.distplot(np.log(df['item_mrp']),color='blue')"
   ]
  },
  {
   "cell_type": "markdown",
   "metadata": {},
   "source": [
    "**Observation:**\n",
    "\n",
    "The log-transformed item_mrp distribution shows a bimodal pattern, with two prominent peaks around 4.5 and 5.0. This suggests that, even after transformation, item_mrp has natural clusters in certain price ranges, though the transformation has helped reduce any extreme skewness.\n",
    "\n",
    "**Next Probable Action:**\n",
    "\n",
    "Investigate the reason behind these distinct price clusters, as they might represent different product categories or pricing strategies. You could consider using these clusters as a feature for analysis or modeling, or further explore segmentation to see if it impacts other variables."
   ]
  },
  {
   "cell_type": "code",
   "execution_count": 31,
   "metadata": {},
   "outputs": [
    {
     "data": {
      "text/plain": [
       "<seaborn.axisgrid.FacetGrid at 0x12aa8f7a0>"
      ]
     },
     "execution_count": 31,
     "metadata": {},
     "output_type": "execute_result"
    },
    {
     "data": {
      "image/png": "[encoded data removed]",
      "text/plain": [
       "<Figure size 500x500 with 1 Axes>"
      ]
     },
     "metadata": {},
     "output_type": "display_data"
    }
   ],
   "source": [
    "# Plot the relationship between 'item_mrp' and 'item_outlet_sales' to observe correlation and sales trends with respect to price\n",
    "sns.lmplot(data=df, x=\"item_mrp\",y=\"item_outlet_sales\")"
   ]
  },
  {
   "cell_type": "markdown",
   "metadata": {},
   "source": [
    "**Observation:**\n",
    "\n",
    "The scatter plot shows a `positive correlation` between `item_mrp` and `item_outlet_sales`. As the item_mrp increases, the item_outlet_sales also tends to increase, indicating that higher-priced items generally generate more sales in terms of revenue.\n",
    "\n",
    "**Next Probable Action:**\n",
    "\n",
    "Consider calculating the correlation coefficient between item_mrp and item_outlet_sales to quantify the strength of this relationship. Additionally, you could segment item_mrp into bins to analyze if the sales trend remains consistent across different price ranges or if there are notable variations."
   ]
  },
  {
   "cell_type": "code",
   "execution_count": 32,
   "metadata": {},
   "outputs": [
    {
     "data": {
      "text/plain": [
       "<seaborn.axisgrid.FacetGrid at 0x12d7bea50>"
      ]
     },
     "execution_count": 32,
     "metadata": {},
     "output_type": "execute_result"
    },
    {
     "data": {
      "image/png": "[encoded data removed]",
      "text/plain": [
       "<Figure size 500x500 with 1 Axes>"
      ]
     },
     "metadata": {},
     "output_type": "display_data"
    }
   ],
   "source": [
    "# Plot the relationship between 'item_visibility' and 'item_outlet_sales' to examine the impact of visibility on sales\n",
    "sns.lmplot(data=df,x=\"item_visibility\",y=\"item_outlet_sales\")"
   ]
  },
  {
   "cell_type": "markdown",
   "metadata": {},
   "source": [
    "**Observation:**\n",
    "\n",
    "The scatter plot indicates a slight negative correlation between `item_visibility` and `item_outlet_sales`. Higher item visibility does not appear to contribute significantly to sales, and sales tend to decrease marginally as visibility increases. Most data points are concentrated at lower visibility values, with a wide range of sales.\n",
    "\n",
    "**Next Action:**\n",
    "\n",
    "Consider exploring other factors that may influence item_outlet_sales, as item_visibility alone does not appear to have a strong effect. You may also want to check for multicollinearity with other features or create interaction terms to see if visibility impacts sales in combination with other variables."
   ]
  },
  {
   "cell_type": "code",
   "execution_count": 33,
   "metadata": {},
   "outputs": [
    {
     "data": {
      "text/plain": [
       "<seaborn.axisgrid.FacetGrid at 0x12d76fc80>"
      ]
     },
     "execution_count": 33,
     "metadata": {},
     "output_type": "execute_result"
    },
    {
     "data": {
      "image/png": "[encoded data removed]",
      "text/plain": [
       "<Figure size 1211.11x1200 with 16 Axes>"
      ]
     },
     "metadata": {},
     "output_type": "display_data"
    }
   ],
   "source": [
    "# Plot the distribution of 'item_outlet_sales' across different 'item_type' categories to identify sales patterns for each item type\n",
    "sns.FacetGrid(df, col='item_type',col_wrap=4).map(plt.hist,'item_outlet_sales').add_legend()"
   ]
  },
  {
   "cell_type": "markdown",
   "metadata": {},
   "source": [
    "**Observation:**\n",
    "\n",
    "The histograms show the distribution of `item_outlet_sales` across different `item_type` categories. Most categories display a right-skewed distribution, with the majority of sales concentrated at lower values. Certain categories, like \"Household\", \"Fruits and Vegetables\", \"Snack Foods\", \"Dairy\" and \"Frozen Foods\", have relatively higher sales counts, indicating they are likely popular or high-selling items compared to others."
   ]
  },
  {
   "cell_type": "markdown",
   "metadata": {},
   "source": [
    "### Correlation"
   ]
  },
  {
   "cell_type": "code",
   "execution_count": 34,
   "metadata": {},
   "outputs": [],
   "source": [
    "# Select only the numeric columns from the DataFrame\n",
    "numeric_df = df.select_dtypes(include=['float64', 'int64'])"
   ]
  },
  {
   "cell_type": "code",
   "execution_count": 35,
   "metadata": {},
   "outputs": [],
   "source": [
    "# Calculate the correlation matrix for numeric columns\n",
    "corr = numeric_df.corr()"
   ]
  },
  {
   "cell_type": "code",
   "execution_count": 36,
   "metadata": {},
   "outputs": [
    {
     "data": {
      "image/png": "[encoded data removed]",
      "text/plain": [
       "<Figure size 1000x1000 with 2 Axes>"
      ]
     },
     "metadata": {},
     "output_type": "display_data"
    }
   ],
   "source": [
    "# Plot the correlation heatmap\n",
    "plt.figure(figsize=(10, 10))\n",
    "sns.heatmap(corr, cbar=True, square=True, annot=True, cmap='BrBG_r')\n",
    "plt.title(\"Correlation Matrix (Numeric Columns Only)\")\n",
    "plt.show()"
   ]
  },
  {
   "cell_type": "markdown",
   "metadata": {},
   "source": [
    "**Observation:**\n",
    "\n",
    "The correlation heatmap shows that `item_mrp` has a moderate positive correlation (0.57) with `item_outlet_sales`, indicating that items with higher prices tend to have higher sales. Other variables, such as `item_weight`, `item_visibility`, and `outlet_establishment_year`, have very weak correlations with `item_outlet_sales` and each other, suggesting they do not significantly impact sales directly.\n",
    "\n",
    "This analysis indicates that `item_mrp` may be an important predictor for `item_outlet_sales`, while the other numeric features are likely less influential."
   ]
  },
  {
   "cell_type": "markdown",
   "metadata": {},
   "source": [
    "## **Categorical Correlation**\n",
    "\n",
    "### Chi Squared Test"
   ]
  },
  {
   "cell_type": "markdown",
   "metadata": {},
   "source": [
    "* **outlet_size and outlet_type**"
   ]
  },
  {
   "cell_type": "code",
   "execution_count": 37,
   "metadata": {},
   "outputs": [
    {
     "data": {
      "text/html": [
       "<div>\n",
       "<style scoped>\n",
       "    .dataframe tbody tr th:only-of-type {\n",
       "        vertical-align: middle;\n",
       "    }\n",
       "\n",
       "    .dataframe tbody tr th {\n",
       "        vertical-align: top;\n",
       "    }\n",
       "\n",
       "    .dataframe thead th {\n",
       "        text-align: right;\n",
       "    }\n",
       "</style>\n",
       "<table border=\"1\" class=\"dataframe\">\n",
       "  <thead>\n",
       "    <tr style=\"text-align: right;\">\n",
       "      <th>outlet_type</th>\n",
       "      <th>Grocery Store</th>\n",
       "      <th>Supermarket Type1</th>\n",
       "      <th>Supermarket Type2</th>\n",
       "      <th>Supermarket Type3</th>\n",
       "    </tr>\n",
       "    <tr>\n",
       "      <th>outlet_size</th>\n",
       "      <th></th>\n",
       "      <th></th>\n",
       "      <th></th>\n",
       "      <th></th>\n",
       "    </tr>\n",
       "  </thead>\n",
       "  <tbody>\n",
       "    <tr>\n",
       "      <th>High</th>\n",
       "      <td>0</td>\n",
       "      <td>932</td>\n",
       "      <td>0</td>\n",
       "      <td>0</td>\n",
       "    </tr>\n",
       "    <tr>\n",
       "      <th>Medium</th>\n",
       "      <td>0</td>\n",
       "      <td>929</td>\n",
       "      <td>928</td>\n",
       "      <td>932</td>\n",
       "    </tr>\n",
       "    <tr>\n",
       "      <th>Small</th>\n",
       "      <td>1082</td>\n",
       "      <td>3715</td>\n",
       "      <td>0</td>\n",
       "      <td>0</td>\n",
       "    </tr>\n",
       "  </tbody>\n",
       "</table>\n",
       "</div>"
      ],
      "text/plain": [
       "outlet_type  Grocery Store  Supermarket Type1  Supermarket Type2  \\\n",
       "outlet_size                                                        \n",
       "High                     0                932                  0   \n",
       "Medium                   0                929                928   \n",
       "Small                 1082               3715                  0   \n",
       "\n",
       "outlet_type  Supermarket Type3  \n",
       "outlet_size                     \n",
       "High                         0  \n",
       "Medium                     932  \n",
       "Small                        0  "
      ]
     },
     "execution_count": 37,
     "metadata": {},
     "output_type": "execute_result"
    }
   ],
   "source": [
    "# Create a cross-tabulation of 'outlet_size' and 'outlet_type' to examine their relationship\n",
    "cross_tab = pd.crosstab(index=df[\"outlet_size\"], columns=df[\"outlet_type\"])\n",
    "cross_tab"
   ]
  },
  {
   "cell_type": "code",
   "execution_count": 38,
   "metadata": {},
   "outputs": [
    {
     "data": {
      "text/plain": [
       "Chi2ContingencyResult(statistic=np.float64(5375.495873539656), pvalue=np.float64(0.0), dof=6, expected_freq=array([[ 118.38741489,  610.10002348,  101.53745011,  101.97511153],\n",
       "       [ 354.2730688 , 1825.71777413,  303.84972998,  305.1594271 ],\n",
       "       [ 609.33951632, 3140.18220239,  522.61281991,  524.86546138]]))"
      ]
     },
     "execution_count": 38,
     "metadata": {},
     "output_type": "execute_result"
    }
   ],
   "source": [
    "# Perform the Chi-square test of independence to determine if there is a significant relationship between 'outlet_size' and 'outlet_type'\n",
    "result = chi2_contingency(cross_tab)\n",
    "result"
   ]
  },
  {
   "cell_type": "markdown",
   "metadata": {},
   "source": [
    "#### H0 (Null Hypothesis) : There is no significance between `outlet_size` and `outlet_type`"
   ]
  },
  {
   "cell_type": "code",
   "execution_count": 39,
   "metadata": {},
   "outputs": [
    {
     "name": "stdout",
     "output_type": "stream",
     "text": [
      "The p value is:  0.0\n"
     ]
    }
   ],
   "source": [
    "print(\"The p value is: \",result[1])"
   ]
  },
  {
   "cell_type": "markdown",
   "metadata": {},
   "source": [
    "**Observation:**\n",
    "\n",
    "The Chi-square test result for the 3x4 contingency table between outlet_size and outlet_type shows a significant association (p-value of 0.0). However, while the Chi-square test is generally applicable to tables larger than 2x2, this particular result may not be reliable due to low expected frequencies in some cells.\n",
    "\n",
    "Reasons to be cautious with the Chi-Square Test in this case:\n",
    "\n",
    "**1. Low Expected Frequencies:** Some cells in the table have expected frequencies below the recommended threshold of 5 (e.g., the expected frequency for \"Grocery Store\" and \"High\" is around 118.38). Low expected counts can lead to an inflated Chi-square statistic, making the test result overly significant.\n",
    "\n",
    "**2. Table Size:** In larger tables (like 3x4), even slight deviations from expected values can lead to high Chi-square statistics, which may not accurately represent the strength of association but only the size of the table.\n",
    "\n",
    "**3. Significance vs. Strength of Association:** The Chi-square test tells us whether an association exists, but it does not indicate the strength of this association. In business contexts, knowing the strength of the relationship is often more relevant to understanding the practical impact.\n",
    "\n",
    "\n",
    "**Next Action:**\n",
    "\n",
    "Use `Cramér's V` instead to measure the strength of the relationship, providing a clearer, size-adjusted interpretation of the association."
   ]
  },
  {
   "cell_type": "markdown",
   "metadata": {},
   "source": [
    "### Cramér's V Test"
   ]
  },
  {
   "cell_type": "code",
   "execution_count": 40,
   "metadata": {},
   "outputs": [],
   "source": [
    "# Create function to perform Cramér's V Test\n",
    "def cramers_v(x, y):\n",
    "    \"\"\"\n",
    "    Calculate Cramér's V statistic for measuring the strength of association between two categorical variables.\n",
    "\n",
    "        Parameters:\n",
    "            x (pd.Series): The first categorical variable.\n",
    "            y (pd.Series): The second categorical variable.\n",
    "\n",
    "        Returns:\n",
    "            float: Cramér's V statistic, ranging from 0 to 1, where 0 indicates no association and 1 indicates a strong association.\n",
    "    \"\"\"\n",
    "    # Create a contingency table for the two categorical variables\n",
    "    contingency_table = pd.crosstab(x, y, rownames=None, colnames=None)\n",
    "\n",
    "    # Perform Chi-square test on the contingency table and get the Chi-square statistic\n",
    "    chi2_stat = chi2_contingency(contingency_table)[0]\n",
    "\n",
    "    # Calculate the total number of observations\n",
    "    n = contingency_table.sum().sum()\n",
    "\n",
    "    # Calculate the minimum dimension (rows or columns) minus 1\n",
    "    min_dim = min(contingency_table.shape)-1\n",
    "\n",
    "    # Calculate and return Cramér's V\n",
    "    return np.sqrt(chi2_stat/(n * min_dim))"
   ]
  },
  {
   "cell_type": "code",
   "execution_count": 41,
   "metadata": {},
   "outputs": [],
   "source": [
    "# Encode categorical variables using Label Encoding\n",
    "label_encoder = preprocessing.LabelEncoder()\n",
    "data_encoded = pd.DataFrame()"
   ]
  },
  {
   "cell_type": "code",
   "execution_count": 42,
   "metadata": {},
   "outputs": [],
   "source": [
    "# Apply label encoding to each specified column and store in a new DataFrame\n",
    "for column in df[[\"outlet_type\", \"outlet_size\", \"outlet_location_type\"]].columns:\n",
    "    data_encoded[column] = label_encoder.fit_transform(data[column])"
   ]
  },
  {
   "cell_type": "code",
   "execution_count": 43,
   "metadata": {},
   "outputs": [],
   "source": [
    "# Initialize a list to store Cramér's V values for each variable pair\n",
    "cramers_v_matrix = []"
   ]
  },
  {
   "cell_type": "code",
   "execution_count": 44,
   "metadata": {},
   "outputs": [],
   "source": [
    "# Calculate Cramér's V for each pair of encoded categorical variables\n",
    "for col1 in data_encoded.columns:\n",
    "    row = []  # Temporary list to hold Cramér's V values for col1 against all other columns\n",
    "    for col2 in data_encoded.columns:\n",
    "        # Compute Cramér's V for the pair (col1, col2) and round the result\n",
    "        cramers_value = cramers_v(data_encoded[col1], data_encoded[col2])\n",
    "        row.append(round(cramers_value, 2))\n",
    "    # Append the row list to the main matrix\n",
    "    cramers_v_matrix.append(row)"
   ]
  },
  {
   "cell_type": "code",
   "execution_count": 45,
   "metadata": {},
   "outputs": [
    {
     "data": {
      "text/html": [
       "<div>\n",
       "<style scoped>\n",
       "    .dataframe tbody tr th:only-of-type {\n",
       "        vertical-align: middle;\n",
       "    }\n",
       "\n",
       "    .dataframe tbody tr th {\n",
       "        vertical-align: top;\n",
       "    }\n",
       "\n",
       "    .dataframe thead th {\n",
       "        text-align: right;\n",
       "    }\n",
       "</style>\n",
       "<table border=\"1\" class=\"dataframe\">\n",
       "  <thead>\n",
       "    <tr style=\"text-align: right;\">\n",
       "      <th></th>\n",
       "      <th>outlet_type</th>\n",
       "      <th>outlet_size</th>\n",
       "      <th>outlet_location_type</th>\n",
       "    </tr>\n",
       "  </thead>\n",
       "  <tbody>\n",
       "    <tr>\n",
       "      <th>outlet_type</th>\n",
       "      <td>1.00</td>\n",
       "      <td>0.56</td>\n",
       "      <td>0.53</td>\n",
       "    </tr>\n",
       "    <tr>\n",
       "      <th>outlet_size</th>\n",
       "      <td>0.56</td>\n",
       "      <td>1.00</td>\n",
       "      <td>0.53</td>\n",
       "    </tr>\n",
       "    <tr>\n",
       "      <th>outlet_location_type</th>\n",
       "      <td>0.53</td>\n",
       "      <td>0.53</td>\n",
       "      <td>1.00</td>\n",
       "    </tr>\n",
       "  </tbody>\n",
       "</table>\n",
       "</div>"
      ],
      "text/plain": [
       "                      outlet_type  outlet_size  outlet_location_type\n",
       "outlet_type                  1.00         0.56                  0.53\n",
       "outlet_size                  0.56         1.00                  0.53\n",
       "outlet_location_type         0.53         0.53                  1.00"
      ]
     },
     "execution_count": 45,
     "metadata": {},
     "output_type": "execute_result"
    }
   ],
   "source": [
    "# Convert the Cramér's V matrix to a DataFrame for easier interpretation\n",
    "cramers_v_results = pd.DataFrame(cramers_v_matrix, columns=data_encoded.columns, index=data_encoded.columns)\n",
    "cramers_v_results"
   ]
  },
  {
   "cell_type": "markdown",
   "metadata": {},
   "source": [
    "**Observation:**\n",
    "\n",
    "The Cramér's V matrix shows moderate associations between `outlet_type` and both `outlet_size` (0.56) and `outlet_location_type` (0.53), indicating that these variables are not independent and have a noticeable relationship. This suggests that the type of outlet is somewhat related to its size and location type, which may reflect strategic decisions in outlet planning."
   ]
  },
  {
   "cell_type": "markdown",
   "metadata": {},
   "source": [
    "## Correlation between One Numeric and One Categorical Variable\n",
    "\n",
    "### One-Way ANOVA Test\n",
    "\n",
    "H0 (Null Hypothesis): There is no correlation between variables\n",
    "\n",
    "p value < 0.05 -> Reject my null hypothesis"
   ]
  },
  {
   "cell_type": "markdown",
   "metadata": {},
   "source": [
    "* **outlet_location_type** and **item_outlet_sales**"
   ]
  },
  {
   "cell_type": "code",
   "execution_count": 46,
   "metadata": {},
   "outputs": [],
   "source": [
    "# Prepare data for ANOVA by grouping 'item_outlet_sales' by 'outlet_size' and storing each group's values in a DataFrame\n",
    "anova_data = df.groupby(\"outlet_size\")[\"item_outlet_sales\"].apply(list).reset_index(name=\"item_outlet_sales\")"
   ]
  },
  {
   "cell_type": "code",
   "execution_count": 47,
   "metadata": {},
   "outputs": [
    {
     "data": {
      "text/html": [
       "<div>\n",
       "<style scoped>\n",
       "    .dataframe tbody tr th:only-of-type {\n",
       "        vertical-align: middle;\n",
       "    }\n",
       "\n",
       "    .dataframe tbody tr th {\n",
       "        vertical-align: top;\n",
       "    }\n",
       "\n",
       "    .dataframe thead th {\n",
       "        text-align: right;\n",
       "    }\n",
       "</style>\n",
       "<table border=\"1\" class=\"dataframe\">\n",
       "  <thead>\n",
       "    <tr style=\"text-align: right;\">\n",
       "      <th></th>\n",
       "      <th>outlet_size</th>\n",
       "      <th>item_outlet_sales</th>\n",
       "    </tr>\n",
       "  </thead>\n",
       "  <tbody>\n",
       "    <tr>\n",
       "      <th>0</th>\n",
       "      <td>High</td>\n",
       "      <td>[994.7052, 343.5528, 1977.426, 3775.086, 308.9...</td>\n",
       "    </tr>\n",
       "    <tr>\n",
       "      <th>1</th>\n",
       "      <td>Medium</td>\n",
       "      <td>[443.4228, 2097.27, 556.6088, 1516.0266, 1589....</td>\n",
       "    </tr>\n",
       "    <tr>\n",
       "      <th>2</th>\n",
       "      <td>Small</td>\n",
       "      <td>[2187.153, 2145.2076, 1547.3192, 2748.4224, 15...</td>\n",
       "    </tr>\n",
       "  </tbody>\n",
       "</table>\n",
       "</div>"
      ],
      "text/plain": [
       "  outlet_size                                  item_outlet_sales\n",
       "0        High  [994.7052, 343.5528, 1977.426, 3775.086, 308.9...\n",
       "1      Medium  [443.4228, 2097.27, 556.6088, 1516.0266, 1589....\n",
       "2       Small  [2187.153, 2145.2076, 1547.3192, 2748.4224, 15..."
      ]
     },
     "execution_count": 47,
     "metadata": {},
     "output_type": "execute_result"
    }
   ],
   "source": [
    "# Display the resulting DataFrame with each outlet_size and its associated list of sales\n",
    "anova_data"
   ]
  },
  {
   "cell_type": "code",
   "execution_count": 48,
   "metadata": {},
   "outputs": [],
   "source": [
    "# Extract only the lists of sales values for each `outlet_size` group to pass into the f_oneway function\n",
    "sales_values = anova_data[\"item_outlet_sales\"]"
   ]
  },
  {
   "cell_type": "code",
   "execution_count": 49,
   "metadata": {},
   "outputs": [
    {
     "data": {
      "text/plain": [
       "F_onewayResult(statistic=np.float64(212.80711849699244), pvalue=np.float64(6.525835900937984e-91))"
      ]
     },
     "execution_count": 49,
     "metadata": {},
     "output_type": "execute_result"
    }
   ],
   "source": [
    "# Perform the One-Way ANOVA test\n",
    "# The * operator unpacks the list so that each list of sales values for an outlet_size is passed as a separate argument\n",
    "anova_results = f_oneway(*sales_values)\n",
    "anova_results"
   ]
  },
  {
   "cell_type": "code",
   "execution_count": 50,
   "metadata": {},
   "outputs": [
    {
     "name": "stdout",
     "output_type": "stream",
     "text": [
      "The p value is 6.525835900937984e-91\n"
     ]
    }
   ],
   "source": [
    "print(\"The p value is\",anova_results[1])"
   ]
  },
  {
   "cell_type": "markdown",
   "metadata": {},
   "source": [
    "**Observation:**\n",
    "\n",
    "The One-Way ANOVA test yields a very small p-value (6.52e-91), which is far below any typical significance level (e.g., 0.05). This indicates a statistically significant difference in `item_outlet_sales` means across different `outlet_size` groups. In other words, the outlet size has a significant impact on sales, suggesting that different outlet sizes may drive different levels of sales performance. The Null Hypothesis has been rejected & there is a very high correlation between `outlet_size` & `item_outlet_sales`."
   ]
  },
  {
   "cell_type": "markdown",
   "metadata": {},
   "source": [
    "* **outlet_type** and **item_outlet_sales**"
   ]
  },
  {
   "cell_type": "code",
   "execution_count": 51,
   "metadata": {},
   "outputs": [],
   "source": [
    "# Prepare data for ANOVA by grouping 'item_outlet_sales' by 'outlet_type' and storing each group's values in a DataFrame\n",
    "anova_data = df.groupby(\"outlet_type\")[\"item_outlet_sales\"].apply(list).reset_index(name=\"item_outlet_sales\")"
   ]
  },
  {
   "cell_type": "code",
   "execution_count": 52,
   "metadata": {},
   "outputs": [],
   "source": [
    "# Extract only the lists of sales values for each `outlet_type` group to pass into the f_oneway function\n",
    "sales_values = anova_data[\"item_outlet_sales\"]"
   ]
  },
  {
   "cell_type": "code",
   "execution_count": 53,
   "metadata": {},
   "outputs": [
    {
     "data": {
      "text/plain": [
       "F_onewayResult(statistic=np.float64(893.4802946838308), pvalue=np.float64(0.0))"
      ]
     },
     "execution_count": 53,
     "metadata": {},
     "output_type": "execute_result"
    }
   ],
   "source": [
    "# Perform the One-Way ANOVA test\n",
    "# The * operator unpacks the list so that each list of sales values for an outlet_type is passed as a separate argument\n",
    "anova_results = f_oneway(*sales_values)\n",
    "anova_results"
   ]
  },
  {
   "cell_type": "code",
   "execution_count": 54,
   "metadata": {},
   "outputs": [
    {
     "name": "stdout",
     "output_type": "stream",
     "text": [
      "The p value is 0.0\n"
     ]
    }
   ],
   "source": [
    "print(\"The p value is\",anova_results[1])"
   ]
  },
  {
   "cell_type": "markdown",
   "metadata": {},
   "source": [
    "**Observation:**\n",
    "\n",
    "The One-Way ANOVA test yields p-value = 0.0, which is below any typical significance level (e.g., 0.05). The outlet type has a significant impact on sales, suggesting that different outlet types may drive different levels of sales performance. The Null Hypothesis has been rejected & there is a very high correlation between `outlet_type` & `item_outlet_sales`."
   ]
  },
  {
   "cell_type": "markdown",
   "metadata": {},
   "source": [
    "* **outlet_location_type** and **item_outlet_sales**"
   ]
  },
  {
   "cell_type": "code",
   "execution_count": 55,
   "metadata": {},
   "outputs": [],
   "source": [
    "# Prepare data for ANOVA by grouping 'item_outlet_sales' by 'outlet_location_type' and storing each group's values in a DataFrame\n",
    "anova_data = df.groupby(\"outlet_location_type\")[\"item_outlet_sales\"].apply(list).reset_index(name=\"item_outlet_sales\")"
   ]
  },
  {
   "cell_type": "code",
   "execution_count": 56,
   "metadata": {},
   "outputs": [],
   "source": [
    "# Extract only the lists of sales values for each `outlet_type` group to pass into the f_oneway function\n",
    "sales_values = anova_data[\"item_outlet_sales\"]"
   ]
  },
  {
   "cell_type": "code",
   "execution_count": 57,
   "metadata": {},
   "outputs": [
    {
     "data": {
      "text/plain": [
       "F_onewayResult(statistic=np.float64(53.82907280706569), pvalue=np.float64(5.873308176020326e-24))"
      ]
     },
     "execution_count": 57,
     "metadata": {},
     "output_type": "execute_result"
    }
   ],
   "source": [
    "# Perform the One-Way ANOVA test\n",
    "# The * operator unpacks the list so that each list of sales values for an outlet_location_type is passed as a separate argument\n",
    "anova_results = f_oneway(*sales_values)\n",
    "anova_results"
   ]
  },
  {
   "cell_type": "code",
   "execution_count": 58,
   "metadata": {},
   "outputs": [
    {
     "name": "stdout",
     "output_type": "stream",
     "text": [
      "The p value is 5.873308176020326e-24\n"
     ]
    }
   ],
   "source": [
    "print(\"The p value is\",anova_results[1])"
   ]
  },
  {
   "cell_type": "markdown",
   "metadata": {},
   "source": [
    "**Observation:**\n",
    "\n",
    "The One-Way ANOVA test yields a very small p-value (5.87e-24), which is far below any typical significance level (e.g., 0.05). This indicates a statistically significant difference in `item_outlet_sales` means across different `outlet_location_type` groups. In other words, the outlet size has a significant impact on sales, suggesting that different outlet sizes may drive different levels of sales performance. The Null Hypothesis has been rejected & there is a very high correlation between `outlet_location_type` & `item_outlet_sales`."
   ]
  },
  {
   "cell_type": "markdown",
   "metadata": {},
   "source": [
    "## **Feature Engineering**"
   ]
  },
  {
   "cell_type": "code",
   "execution_count": 59,
   "metadata": {},
   "outputs": [
    {
     "data": {
      "text/html": [
       "<div>\n",
       "<style scoped>\n",
       "    .dataframe tbody tr th:only-of-type {\n",
       "        vertical-align: middle;\n",
       "    }\n",
       "\n",
       "    .dataframe tbody tr th {\n",
       "        vertical-align: top;\n",
       "    }\n",
       "\n",
       "    .dataframe thead th {\n",
       "        text-align: right;\n",
       "    }\n",
       "</style>\n",
       "<table border=\"1\" class=\"dataframe\">\n",
       "  <thead>\n",
       "    <tr style=\"text-align: right;\">\n",
       "      <th></th>\n",
       "      <th>item_identifier</th>\n",
       "      <th>item_weight</th>\n",
       "      <th>item_fat_content</th>\n",
       "      <th>item_visibility</th>\n",
       "      <th>item_type</th>\n",
       "      <th>item_mrp</th>\n",
       "      <th>outlet_identifier</th>\n",
       "      <th>outlet_establishment_year</th>\n",
       "      <th>outlet_size</th>\n",
       "      <th>outlet_location_type</th>\n",
       "      <th>outlet_type</th>\n",
       "      <th>item_outlet_sales</th>\n",
       "    </tr>\n",
       "  </thead>\n",
       "  <tbody>\n",
       "    <tr>\n",
       "      <th>0</th>\n",
       "      <td>DRC01</td>\n",
       "      <td>5.920</td>\n",
       "      <td>Regular</td>\n",
       "      <td>0.019278</td>\n",
       "      <td>Soft Drinks</td>\n",
       "      <td>48.269199</td>\n",
       "      <td>OUT018</td>\n",
       "      <td>2009</td>\n",
       "      <td>Medium</td>\n",
       "      <td>Tier 3</td>\n",
       "      <td>Supermarket Type2</td>\n",
       "      <td>443.4228</td>\n",
       "    </tr>\n",
       "    <tr>\n",
       "      <th>1</th>\n",
       "      <td>FDN15</td>\n",
       "      <td>17.500</td>\n",
       "      <td>Low Fat</td>\n",
       "      <td>0.016760</td>\n",
       "      <td>Meat</td>\n",
       "      <td>141.617996</td>\n",
       "      <td>OUT049</td>\n",
       "      <td>1999</td>\n",
       "      <td>Medium</td>\n",
       "      <td>Tier 1</td>\n",
       "      <td>Supermarket Type1</td>\n",
       "      <td>2097.2700</td>\n",
       "    </tr>\n",
       "    <tr>\n",
       "      <th>2</th>\n",
       "      <td>NCD19</td>\n",
       "      <td>8.930</td>\n",
       "      <td>Low Fat</td>\n",
       "      <td>0.000000</td>\n",
       "      <td>Household</td>\n",
       "      <td>53.861401</td>\n",
       "      <td>OUT013</td>\n",
       "      <td>1987</td>\n",
       "      <td>High</td>\n",
       "      <td>Tier 3</td>\n",
       "      <td>Supermarket Type1</td>\n",
       "      <td>994.7052</td>\n",
       "    </tr>\n",
       "    <tr>\n",
       "      <th>3</th>\n",
       "      <td>FDP36</td>\n",
       "      <td>10.395</td>\n",
       "      <td>Regular</td>\n",
       "      <td>0.000000</td>\n",
       "      <td>Baking Goods</td>\n",
       "      <td>51.400799</td>\n",
       "      <td>OUT018</td>\n",
       "      <td>2009</td>\n",
       "      <td>Medium</td>\n",
       "      <td>Tier 3</td>\n",
       "      <td>Supermarket Type2</td>\n",
       "      <td>556.6088</td>\n",
       "    </tr>\n",
       "    <tr>\n",
       "      <th>4</th>\n",
       "      <td>FDO10</td>\n",
       "      <td>13.650</td>\n",
       "      <td>Regular</td>\n",
       "      <td>0.012741</td>\n",
       "      <td>Snack Foods</td>\n",
       "      <td>57.658798</td>\n",
       "      <td>OUT013</td>\n",
       "      <td>1987</td>\n",
       "      <td>High</td>\n",
       "      <td>Tier 3</td>\n",
       "      <td>Supermarket Type1</td>\n",
       "      <td>343.5528</td>\n",
       "    </tr>\n",
       "  </tbody>\n",
       "</table>\n",
       "</div>"
      ],
      "text/plain": [
       "  item_identifier  item_weight item_fat_content  item_visibility  \\\n",
       "0           DRC01        5.920          Regular         0.019278   \n",
       "1           FDN15       17.500          Low Fat         0.016760   \n",
       "2           NCD19        8.930          Low Fat         0.000000   \n",
       "3           FDP36       10.395          Regular         0.000000   \n",
       "4           FDO10       13.650          Regular         0.012741   \n",
       "\n",
       "      item_type    item_mrp outlet_identifier  outlet_establishment_year  \\\n",
       "0   Soft Drinks   48.269199            OUT018                       2009   \n",
       "1          Meat  141.617996            OUT049                       1999   \n",
       "2     Household   53.861401            OUT013                       1987   \n",
       "3  Baking Goods   51.400799            OUT018                       2009   \n",
       "4   Snack Foods   57.658798            OUT013                       1987   \n",
       "\n",
       "  outlet_size outlet_location_type        outlet_type  item_outlet_sales  \n",
       "0      Medium               Tier 3  Supermarket Type2           443.4228  \n",
       "1      Medium               Tier 1  Supermarket Type1          2097.2700  \n",
       "2        High               Tier 3  Supermarket Type1           994.7052  \n",
       "3      Medium               Tier 3  Supermarket Type2           556.6088  \n",
       "4        High               Tier 3  Supermarket Type1           343.5528  "
      ]
     },
     "execution_count": 59,
     "metadata": {},
     "output_type": "execute_result"
    }
   ],
   "source": [
    "df.head()"
   ]
  },
  {
   "cell_type": "code",
   "execution_count": 60,
   "metadata": {},
   "outputs": [
    {
     "data": {
      "text/html": [
       "<div>\n",
       "<style scoped>\n",
       "    .dataframe tbody tr th:only-of-type {\n",
       "        vertical-align: middle;\n",
       "    }\n",
       "\n",
       "    .dataframe tbody tr th {\n",
       "        vertical-align: top;\n",
       "    }\n",
       "\n",
       "    .dataframe thead th {\n",
       "        text-align: right;\n",
       "    }\n",
       "</style>\n",
       "<table border=\"1\" class=\"dataframe\">\n",
       "  <thead>\n",
       "    <tr style=\"text-align: right;\">\n",
       "      <th></th>\n",
       "      <th>item_identifier</th>\n",
       "      <th>item_weight</th>\n",
       "      <th>item_fat_content</th>\n",
       "      <th>item_visibility</th>\n",
       "      <th>item_type</th>\n",
       "      <th>item_mrp</th>\n",
       "      <th>outlet_identifier</th>\n",
       "      <th>outlet_size</th>\n",
       "      <th>outlet_location_type</th>\n",
       "      <th>outlet_type</th>\n",
       "      <th>item_outlet_sales</th>\n",
       "      <th>outlet_age</th>\n",
       "    </tr>\n",
       "  </thead>\n",
       "  <tbody>\n",
       "    <tr>\n",
       "      <th>0</th>\n",
       "      <td>DRC01</td>\n",
       "      <td>5.920</td>\n",
       "      <td>Regular</td>\n",
       "      <td>0.019278</td>\n",
       "      <td>Soft Drinks</td>\n",
       "      <td>48.269199</td>\n",
       "      <td>OUT018</td>\n",
       "      <td>Medium</td>\n",
       "      <td>Tier 3</td>\n",
       "      <td>Supermarket Type2</td>\n",
       "      <td>443.4228</td>\n",
       "      <td>15</td>\n",
       "    </tr>\n",
       "    <tr>\n",
       "      <th>1</th>\n",
       "      <td>FDN15</td>\n",
       "      <td>17.500</td>\n",
       "      <td>Low Fat</td>\n",
       "      <td>0.016760</td>\n",
       "      <td>Meat</td>\n",
       "      <td>141.617996</td>\n",
       "      <td>OUT049</td>\n",
       "      <td>Medium</td>\n",
       "      <td>Tier 1</td>\n",
       "      <td>Supermarket Type1</td>\n",
       "      <td>2097.2700</td>\n",
       "      <td>25</td>\n",
       "    </tr>\n",
       "    <tr>\n",
       "      <th>2</th>\n",
       "      <td>NCD19</td>\n",
       "      <td>8.930</td>\n",
       "      <td>Low Fat</td>\n",
       "      <td>0.000000</td>\n",
       "      <td>Household</td>\n",
       "      <td>53.861401</td>\n",
       "      <td>OUT013</td>\n",
       "      <td>High</td>\n",
       "      <td>Tier 3</td>\n",
       "      <td>Supermarket Type1</td>\n",
       "      <td>994.7052</td>\n",
       "      <td>37</td>\n",
       "    </tr>\n",
       "    <tr>\n",
       "      <th>3</th>\n",
       "      <td>FDP36</td>\n",
       "      <td>10.395</td>\n",
       "      <td>Regular</td>\n",
       "      <td>0.000000</td>\n",
       "      <td>Baking Goods</td>\n",
       "      <td>51.400799</td>\n",
       "      <td>OUT018</td>\n",
       "      <td>Medium</td>\n",
       "      <td>Tier 3</td>\n",
       "      <td>Supermarket Type2</td>\n",
       "      <td>556.6088</td>\n",
       "      <td>15</td>\n",
       "    </tr>\n",
       "    <tr>\n",
       "      <th>4</th>\n",
       "      <td>FDO10</td>\n",
       "      <td>13.650</td>\n",
       "      <td>Regular</td>\n",
       "      <td>0.012741</td>\n",
       "      <td>Snack Foods</td>\n",
       "      <td>57.658798</td>\n",
       "      <td>OUT013</td>\n",
       "      <td>High</td>\n",
       "      <td>Tier 3</td>\n",
       "      <td>Supermarket Type1</td>\n",
       "      <td>343.5528</td>\n",
       "      <td>37</td>\n",
       "    </tr>\n",
       "  </tbody>\n",
       "</table>\n",
       "</div>"
      ],
      "text/plain": [
       "  item_identifier  item_weight item_fat_content  item_visibility  \\\n",
       "0           DRC01        5.920          Regular         0.019278   \n",
       "1           FDN15       17.500          Low Fat         0.016760   \n",
       "2           NCD19        8.930          Low Fat         0.000000   \n",
       "3           FDP36       10.395          Regular         0.000000   \n",
       "4           FDO10       13.650          Regular         0.012741   \n",
       "\n",
       "      item_type    item_mrp outlet_identifier outlet_size  \\\n",
       "0   Soft Drinks   48.269199            OUT018      Medium   \n",
       "1          Meat  141.617996            OUT049      Medium   \n",
       "2     Household   53.861401            OUT013        High   \n",
       "3  Baking Goods   51.400799            OUT018      Medium   \n",
       "4   Snack Foods   57.658798            OUT013        High   \n",
       "\n",
       "  outlet_location_type        outlet_type  item_outlet_sales  outlet_age  \n",
       "0               Tier 3  Supermarket Type2           443.4228          15  \n",
       "1               Tier 1  Supermarket Type1          2097.2700          25  \n",
       "2               Tier 3  Supermarket Type1           994.7052          37  \n",
       "3               Tier 3  Supermarket Type2           556.6088          15  \n",
       "4               Tier 3  Supermarket Type1           343.5528          37  "
      ]
     },
     "execution_count": 60,
     "metadata": {},
     "output_type": "execute_result"
    }
   ],
   "source": [
    "df[\"outlet_age\"] = 2024 - df[\"outlet_establishment_year\"]\n",
    "df = df.drop(columns=[\"outlet_establishment_year\"])\n",
    "\n",
    "df.head()"
   ]
  },
  {
   "cell_type": "code",
   "execution_count": 61,
   "metadata": {},
   "outputs": [
    {
     "data": {
      "text/html": [
       "<div>\n",
       "<style scoped>\n",
       "    .dataframe tbody tr th:only-of-type {\n",
       "        vertical-align: middle;\n",
       "    }\n",
       "\n",
       "    .dataframe tbody tr th {\n",
       "        vertical-align: top;\n",
       "    }\n",
       "\n",
       "    .dataframe thead th {\n",
       "        text-align: right;\n",
       "    }\n",
       "</style>\n",
       "<table border=\"1\" class=\"dataframe\">\n",
       "  <thead>\n",
       "    <tr style=\"text-align: right;\">\n",
       "      <th></th>\n",
       "      <th>item_weight</th>\n",
       "      <th>item_fat_content</th>\n",
       "      <th>item_visibility</th>\n",
       "      <th>item_mrp</th>\n",
       "      <th>outlet_identifier</th>\n",
       "      <th>outlet_size</th>\n",
       "      <th>outlet_location_type</th>\n",
       "      <th>outlet_type</th>\n",
       "      <th>item_outlet_sales</th>\n",
       "      <th>outlet_age</th>\n",
       "      <th>...</th>\n",
       "      <th>item_type_Fruits and Vegetables</th>\n",
       "      <th>item_type_Hard Drinks</th>\n",
       "      <th>item_type_Health and Hygiene</th>\n",
       "      <th>item_type_Household</th>\n",
       "      <th>item_type_Meat</th>\n",
       "      <th>item_type_Others</th>\n",
       "      <th>item_type_Seafood</th>\n",
       "      <th>item_type_Snack Foods</th>\n",
       "      <th>item_type_Soft Drinks</th>\n",
       "      <th>item_type_Starchy Foods</th>\n",
       "    </tr>\n",
       "  </thead>\n",
       "  <tbody>\n",
       "    <tr>\n",
       "      <th>0</th>\n",
       "      <td>5.920</td>\n",
       "      <td>1</td>\n",
       "      <td>0.019278</td>\n",
       "      <td>48.269199</td>\n",
       "      <td>3</td>\n",
       "      <td>1</td>\n",
       "      <td>2</td>\n",
       "      <td>2</td>\n",
       "      <td>443.4228</td>\n",
       "      <td>15</td>\n",
       "      <td>...</td>\n",
       "      <td>False</td>\n",
       "      <td>False</td>\n",
       "      <td>False</td>\n",
       "      <td>False</td>\n",
       "      <td>False</td>\n",
       "      <td>False</td>\n",
       "      <td>False</td>\n",
       "      <td>False</td>\n",
       "      <td>True</td>\n",
       "      <td>False</td>\n",
       "    </tr>\n",
       "    <tr>\n",
       "      <th>1</th>\n",
       "      <td>17.500</td>\n",
       "      <td>0</td>\n",
       "      <td>0.016760</td>\n",
       "      <td>141.617996</td>\n",
       "      <td>9</td>\n",
       "      <td>1</td>\n",
       "      <td>0</td>\n",
       "      <td>1</td>\n",
       "      <td>2097.2700</td>\n",
       "      <td>25</td>\n",
       "      <td>...</td>\n",
       "      <td>False</td>\n",
       "      <td>False</td>\n",
       "      <td>False</td>\n",
       "      <td>False</td>\n",
       "      <td>True</td>\n",
       "      <td>False</td>\n",
       "      <td>False</td>\n",
       "      <td>False</td>\n",
       "      <td>False</td>\n",
       "      <td>False</td>\n",
       "    </tr>\n",
       "    <tr>\n",
       "      <th>2</th>\n",
       "      <td>8.930</td>\n",
       "      <td>0</td>\n",
       "      <td>0.000000</td>\n",
       "      <td>53.861401</td>\n",
       "      <td>1</td>\n",
       "      <td>0</td>\n",
       "      <td>2</td>\n",
       "      <td>1</td>\n",
       "      <td>994.7052</td>\n",
       "      <td>37</td>\n",
       "      <td>...</td>\n",
       "      <td>False</td>\n",
       "      <td>False</td>\n",
       "      <td>False</td>\n",
       "      <td>True</td>\n",
       "      <td>False</td>\n",
       "      <td>False</td>\n",
       "      <td>False</td>\n",
       "      <td>False</td>\n",
       "      <td>False</td>\n",
       "      <td>False</td>\n",
       "    </tr>\n",
       "    <tr>\n",
       "      <th>3</th>\n",
       "      <td>10.395</td>\n",
       "      <td>1</td>\n",
       "      <td>0.000000</td>\n",
       "      <td>51.400799</td>\n",
       "      <td>3</td>\n",
       "      <td>1</td>\n",
       "      <td>2</td>\n",
       "      <td>2</td>\n",
       "      <td>556.6088</td>\n",
       "      <td>15</td>\n",
       "      <td>...</td>\n",
       "      <td>False</td>\n",
       "      <td>False</td>\n",
       "      <td>False</td>\n",
       "      <td>False</td>\n",
       "      <td>False</td>\n",
       "      <td>False</td>\n",
       "      <td>False</td>\n",
       "      <td>False</td>\n",
       "      <td>False</td>\n",
       "      <td>False</td>\n",
       "    </tr>\n",
       "    <tr>\n",
       "      <th>4</th>\n",
       "      <td>13.650</td>\n",
       "      <td>1</td>\n",
       "      <td>0.012741</td>\n",
       "      <td>57.658798</td>\n",
       "      <td>1</td>\n",
       "      <td>0</td>\n",
       "      <td>2</td>\n",
       "      <td>1</td>\n",
       "      <td>343.5528</td>\n",
       "      <td>37</td>\n",
       "      <td>...</td>\n",
       "      <td>False</td>\n",
       "      <td>False</td>\n",
       "      <td>False</td>\n",
       "      <td>False</td>\n",
       "      <td>False</td>\n",
       "      <td>False</td>\n",
       "      <td>False</td>\n",
       "      <td>True</td>\n",
       "      <td>False</td>\n",
       "      <td>False</td>\n",
       "    </tr>\n",
       "  </tbody>\n",
       "</table>\n",
       "<p>5 rows × 26 columns</p>\n",
       "</div>"
      ],
      "text/plain": [
       "   item_weight  item_fat_content  item_visibility    item_mrp  \\\n",
       "0        5.920                 1         0.019278   48.269199   \n",
       "1       17.500                 0         0.016760  141.617996   \n",
       "2        8.930                 0         0.000000   53.861401   \n",
       "3       10.395                 1         0.000000   51.400799   \n",
       "4       13.650                 1         0.012741   57.658798   \n",
       "\n",
       "   outlet_identifier  outlet_size  outlet_location_type  outlet_type  \\\n",
       "0                  3            1                     2            2   \n",
       "1                  9            1                     0            1   \n",
       "2                  1            0                     2            1   \n",
       "3                  3            1                     2            2   \n",
       "4                  1            0                     2            1   \n",
       "\n",
       "   item_outlet_sales  outlet_age  ...  item_type_Fruits and Vegetables  \\\n",
       "0           443.4228          15  ...                            False   \n",
       "1          2097.2700          25  ...                            False   \n",
       "2           994.7052          37  ...                            False   \n",
       "3           556.6088          15  ...                            False   \n",
       "4           343.5528          37  ...                            False   \n",
       "\n",
       "   item_type_Hard Drinks  item_type_Health and Hygiene  item_type_Household  \\\n",
       "0                  False                         False                False   \n",
       "1                  False                         False                False   \n",
       "2                  False                         False                 True   \n",
       "3                  False                         False                False   \n",
       "4                  False                         False                False   \n",
       "\n",
       "   item_type_Meat  item_type_Others  item_type_Seafood  item_type_Snack Foods  \\\n",
       "0           False             False              False                  False   \n",
       "1            True             False              False                  False   \n",
       "2           False             False              False                  False   \n",
       "3           False             False              False                  False   \n",
       "4           False             False              False                   True   \n",
       "\n",
       "   item_type_Soft Drinks  item_type_Starchy Foods  \n",
       "0                   True                    False  \n",
       "1                  False                    False  \n",
       "2                  False                    False  \n",
       "3                  False                    False  \n",
       "4                  False                    False  \n",
       "\n",
       "[5 rows x 26 columns]"
      ]
     },
     "execution_count": 61,
     "metadata": {},
     "output_type": "execute_result"
    }
   ],
   "source": [
    "# Categorical variable Encoding\n",
    "# Initialize the LabelEncoder for encoding categorical variables\n",
    "le = LabelEncoder()\n",
    "\n",
    "# List of columns with categorical data to be label-encoded\n",
    "col_encode = [\"item_fat_content\", \"outlet_identifier\", \"outlet_size\", \"outlet_location_type\", \"outlet_type\"]\n",
    "\n",
    "# Loop through each column in the list and apply label encoding\n",
    "for col in col_encode:\n",
    "    df[col] = le.fit_transform(df[col])\n",
    "\n",
    "# Create a new DataFrame by dropping the 'item_identifier' column, as it may not be relevant for analysis\n",
    "df_new = df.drop(columns=[\"item_identifier\"], axis=1)\n",
    "\n",
    "# Convert remaining categorical columns to dummy variables (one-hot encoding) for model compatibility\n",
    "df_new = pd.get_dummies(df_new)\n",
    "\n",
    "# Display the first few rows of the transformed DataFrame to verify encoding\n",
    "df_new.head()"
   ]
  },
  {
   "cell_type": "markdown",
   "metadata": {},
   "source": [
    "## **Split the data**"
   ]
  },
  {
   "cell_type": "code",
   "execution_count": 62,
   "metadata": {},
   "outputs": [],
   "source": [
    "# Define the feature set 'X' by dropping the target variable 'item_outlet_sales' from the DataFrame\n",
    "X = df_new.drop(columns=[\"item_outlet_sales\"], axis=1)\n",
    "# Define the target variable 'y' as the 'item_outlet_sales' column\n",
    "y = df_new[\"item_outlet_sales\"]\n",
    "\n",
    "# Split the data into training and testing sets\n",
    "# Set aside 20% of the data for testing, with a random seed for reproducibility\n",
    "X_train, X_test, y_train, y_test = train_test_split(X, y, test_size=0.2, random_state=42)"
   ]
  },
  {
   "cell_type": "markdown",
   "metadata": {},
   "source": [
    "## **Modeling**"
   ]
  },
  {
   "cell_type": "code",
   "execution_count": 63,
   "metadata": {},
   "outputs": [],
   "source": [
    "# List of models to evaluate, each represented as a tuple with a name and an instantiated model object\n",
    "models = [\n",
    "    (\"lr\", LinearRegression()),             # Linear Regression model\n",
    "    (\"ElasticNet\", ElasticNet()),           # ElasticNet model (combination of L1 and L2 regularization)\n",
    "    (\"RF\", RandomForestRegressor()),        # Random Forest Regressor model\n",
    "    (\"ETR\", ExtraTreesRegressor()),         # Extra Trees Regressor model\n",
    "    (\"GBM\", GradientBoostingRegressor()),   # Gradient Boosting Regressor model\n",
    "    (\"MLP\", MLPRegressor())                 # Multi-layer Perceptron Regressor (neural network)\n",
    "]"
   ]
  },
  {
   "cell_type": "code",
   "execution_count": 64,
   "metadata": {},
   "outputs": [],
   "source": [
    "# Define a function to perform cross-validation on multiple models and print the average scores\n",
    "def model_selection_func(X, y, cross_folds, models):\n",
    "    \"\"\"\n",
    "    Evaluates multiple regression models using cross-validation and prints the mean cross-validation score for each.\n",
    "\n",
    "    Parameters:\n",
    "        X (pd.DataFrame): The feature matrix.\n",
    "        y (pd.Series): The target vector.\n",
    "        cross_folds (int): The number of cross-validation folds.\n",
    "        models (list): List of tuples containing model names and instantiated model objects.\n",
    "\n",
    "    Returns:\n",
    "        None\n",
    "    \"\"\"\n",
    "    # Initialize lists to store model names and their cross-validation scores\n",
    "    scores = []\n",
    "    names = []\n",
    "    \n",
    "    # Perform cross-validation for each model in the list\n",
    "    for model_name, model_instance in models:\n",
    "        # Cross-validate the model and append the mean score to scores list\n",
    "        cv_scores = cross_val_score(model_instance, X, y, cv=cross_folds, n_jobs=-1)\n",
    "        scores.append(cv_scores)\n",
    "        names.append(model_name)\n",
    "    \n",
    "    # Print the mean cross-validation score for each model\n",
    "    for idx in range(len(scores)):\n",
    "        print(f\"{names[idx]}: Mean CV Score = {scores[idx].mean():.4f}\")\n",
    "\n",
    "    return"
   ]
  },
  {
   "cell_type": "code",
   "execution_count": 65,
   "metadata": {},
   "outputs": [
    {
     "name": "stdout",
     "output_type": "stream",
     "text": [
      "lr: Mean CV Score = 0.4964\n",
      "ElasticNet: Mean CV Score = 0.4719\n",
      "RF: Mean CV Score = 0.5525\n",
      "ETR: Mean CV Score = 0.5010\n",
      "GBM: Mean CV Score = 0.5903\n",
      "MLP: Mean CV Score = 0.4966\n"
     ]
    },
    {
     "name": "stderr",
     "output_type": "stream",
     "text": [
      "/Users/abhinandansamal/anaconda3/envs/myenv2/lib/python3.12/site-packages/sklearn/neural_network/_multilayer_perceptron.py:690: ConvergenceWarning: Stochastic Optimizer: Maximum iterations (200) reached and the optimization hasn't converged yet.\n",
      "  warnings.warn(\n",
      "/Users/abhinandansamal/anaconda3/envs/myenv2/lib/python3.12/site-packages/sklearn/neural_network/_multilayer_perceptron.py:690: ConvergenceWarning: Stochastic Optimizer: Maximum iterations (200) reached and the optimization hasn't converged yet.\n",
      "  warnings.warn(\n",
      "/Users/abhinandansamal/anaconda3/envs/myenv2/lib/python3.12/site-packages/sklearn/neural_network/_multilayer_perceptron.py:690: ConvergenceWarning: Stochastic Optimizer: Maximum iterations (200) reached and the optimization hasn't converged yet.\n",
      "  warnings.warn(\n",
      "/Users/abhinandansamal/anaconda3/envs/myenv2/lib/python3.12/site-packages/sklearn/neural_network/_multilayer_perceptron.py:690: ConvergenceWarning: Stochastic Optimizer: Maximum iterations (200) reached and the optimization hasn't converged yet.\n",
      "  warnings.warn(\n",
      "/Users/abhinandansamal/anaconda3/envs/myenv2/lib/python3.12/site-packages/sklearn/neural_network/_multilayer_perceptron.py:690: ConvergenceWarning: Stochastic Optimizer: Maximum iterations (200) reached and the optimization hasn't converged yet.\n",
      "  warnings.warn(\n"
     ]
    }
   ],
   "source": [
    "# Call the model_selection_func function to evaluate multiple models using cross-validation\n",
    "model_selection_func(X_train, y_train, 5, models)"
   ]
  },
  {
   "cell_type": "markdown",
   "metadata": {},
   "source": [
    "**Observation:**\n",
    "\n",
    "The output shows that the Gradient Boosting Regressor (GBM) has the highest mean cross-validation score (0.59), indicating it performs best among the models tested. The Random Forest Regressor (RF) also performs relatively well with a mean score of 0.55. Conversely, Linear Regression (lr) and ElasticNet models have lower mean scores, suggesting they may not capture the complexity of the data as effectively as the ensemble methods.\n",
    "\n",
    "The MLPRegressor displays a ConvergenceWarning, meaning it reached the maximum number of iterations (200) without fully converging. This could indicate that the model requires more iterations or better parameter tuning to achieve optimal performance.\n",
    "\n",
    "**Next Probable Action:**\n",
    "\n",
    "1. Parameter Tuning: For the MLPRegressor, consider increasing the number of iterations or adjusting hyperparameters (e.g., learning rate, hidden layer sizes) to achieve convergence.\n",
    "\n",
    "2. Hyperparameter Tuning: Given that Gradient Boosting and Random Forest performed well, try hyperparameter tuning (e.g., grid search or random search) on these models to potentially improve their performance further.\n",
    "\n",
    "3. Model Selection: Based on initial scores, Gradient Boosting is a strong candidate for further development or deployment."
   ]
  },
  {
   "cell_type": "code",
   "execution_count": 66,
   "metadata": {},
   "outputs": [
    {
     "data": {
      "text/plain": [
       "np.float64(0.5567624931402997)"
      ]
     },
     "execution_count": 66,
     "metadata": {},
     "output_type": "execute_result"
    }
   ],
   "source": [
    "# Creates a pipeline that applies a Spline transformation followed by a linear regression model\n",
    "spline_model = make_pipeline(SplineTransformer(n_knots=3, degree=5), LinearRegression())\n",
    "\n",
    "# Performs 5-fold cross-validation on the spline_model using the training data (X_train, y_train)\n",
    "# `cv=5` specifies 5-fold, and `n_jobs=-1` enables parallel processing to speed up computation\n",
    "scores = cross_val_score(spline_model, X_train, y_train, cv=5, n_jobs=-1)\n",
    "\n",
    "# Calculates the average of the cross-validation scores to estimate the model's performance\n",
    "scores.mean()"
   ]
  },
  {
   "cell_type": "markdown",
   "metadata": {},
   "source": [
    "## **Model Ensembling**\n",
    "\n",
    "### Voting Regressor"
   ]
  },
  {
   "cell_type": "code",
   "execution_count": 67,
   "metadata": {},
   "outputs": [],
   "source": [
    "# Create average of model predictions\n",
    "\n",
    "# Initialize a Linear Regression model\n",
    "reg1 = LinearRegression()\n",
    "# Initialize a Gradient Boosting Regressor\n",
    "reg2 = GradientBoostingRegressor()\n",
    "# Initialize a Multi-Layer Perceptron Regressor\n",
    "reg3 = MLPRegressor()\n",
    "\n",
    "# Combines the three models into a Voting Regressor, which will make predictions by averaging the outputs of each model\n",
    "# The models are labeled as \"LR\" for Linear Regression, \"GBM\" for Gradient Boosting, and \"MLP\" for Multi-Layer Perceptron\n",
    "voting_regress = VotingRegressor(estimators=[(\"LR\", reg1), (\"GBM\", reg2), (\"MLP\", reg3)])\n",
    "\n",
    "# Performs 3-fold cross-validation on the Voting Regressor model using the training data\n",
    "# `cv=3` specifies 3-fold cross-validation\n",
    "scores = cross_val_score(voting_regress, X_train, y_train, cv=3)"
   ]
  },
  {
   "cell_type": "code",
   "execution_count": 68,
   "metadata": {},
   "outputs": [
    {
     "name": "stdout",
     "output_type": "stream",
     "text": [
      "[0.56439086 0.53943561 0.5538259 ]\n",
      "0.5525507907037154\n"
     ]
    }
   ],
   "source": [
    "# Print the individual cross-validation scores for each fold\n",
    "print(scores)\n",
    "\n",
    "# Print the average cross-validation score, providing an overall performance metric for the model\n",
    "print(scores.mean())"
   ]
  },
  {
   "cell_type": "markdown",
   "metadata": {},
   "source": [
    "**Observation:**\n",
    "\n",
    "The average cross-validation score of 0.55 indicates that the Voting Regressor has moderate predictive accuracy on the training data. The scores across the folds are fairly consistent, suggesting stable performance, though there may be room for improvement in model accuracy with tuning or alternative models."
   ]
  },
  {
   "cell_type": "markdown",
   "metadata": {},
   "source": [
    "### Stacking / Stacked Generalization"
   ]
  },
  {
   "cell_type": "code",
   "execution_count": 69,
   "metadata": {},
   "outputs": [
    {
     "name": "stdout",
     "output_type": "stream",
     "text": [
      "[0.6065163  0.58915366 0.58891577]\n"
     ]
    }
   ],
   "source": [
    "# Initialize a Linear Regression model to be used as a base model in the stack\n",
    "linear_regressor = LinearRegression()\n",
    "# Initialize a Gradient Boosting Regressor to capture non-linear relationships as a base model in the stack\n",
    "gradient_boosting_regressor = GradientBoostingRegressor()\n",
    "# Combine base models into a list of estimators, naming each model for clarity in the Stacking Regressor\n",
    "base_estimators = [(\"LR\", linear_regressor), (\"GBM\", gradient_boosting_regressor)]\n",
    "# Set up a Ridge Regression model as the final (meta) estimator in the stacking model\n",
    "meta_estimator = Ridge()\n",
    "# Combine the base models and meta estimator into a Stacking Regressor model\n",
    "stacking_regressor = StackingRegressor(estimators=base_estimators, final_estimator=meta_estimator)\n",
    "\n",
    "# Perform 3-fold cross-validation on the stacking model with the training data\n",
    "# The cv=3 specifies 3-fold cross-validation to evaluate the stacking regressor's performance\n",
    "scores = cross_val_score(stacking_regressor, X_train, y_train, cv=3)\n",
    "\n",
    "# Print the cross-validation scores for each fold, showing the model’s performance\n",
    "print(scores)"
   ]
  },
  {
   "cell_type": "markdown",
   "metadata": {},
   "source": [
    "**Observation:**\n",
    "\n",
    "The cross-validation scores of [0.6065163  0.58915366 0.58891577] indicate a relatively consistent performance across the three folds, with a small variation among them. The average score, approximately 0.5948, suggests that the stacking regressor model has reasonably good predictive accuracy on the training data.\n",
    "\n",
    "The use of both a linear and a gradient boosting model as base estimators, combined with a linear regression as the meta-estimator, is likely contributing to this stability. However, there may still be room for improvement by experimenting with different hyperparameters or by adding more diverse base models to further capture complex patterns and improve overall accuracy."
   ]
  },
  {
   "cell_type": "markdown",
   "metadata": {},
   "source": [
    "### Blending"
   ]
  },
  {
   "cell_type": "code",
   "execution_count": 70,
   "metadata": {},
   "outputs": [],
   "source": [
    "# Split X_train and y_train into new training and validation sets with a 90-10 split for model validation\n",
    "X_train_split, X_val_split, y_train_split, y_val_split = train_test_split(X_train, y_train, test_size=0.1, random_state=42)"
   ]
  },
  {
   "cell_type": "code",
   "execution_count": 71,
   "metadata": {},
   "outputs": [],
   "source": [
    "def list_models():\n",
    "    \"\"\"\n",
    "    Creates and returns a list of basic regression models for training.\n",
    "    \n",
    "    Returns:\n",
    "        list: A list of tuples where each tuple contains a model name (str) \n",
    "              and an instance of a regression model.\n",
    "    \"\"\"\n",
    "    models = []\n",
    "    models.append(('LR', LinearRegression()))  # Add a Linear Regression model with the identifier 'LR'\n",
    "    models.append(('GBR', GradientBoostingRegressor()))  # Add a Gradient Boosting Regressor with the identifier 'GBR'\n",
    "    \n",
    "    return models  # Returns the list of models"
   ]
  },
  {
   "cell_type": "code",
   "execution_count": 72,
   "metadata": {},
   "outputs": [],
   "source": [
    "def fit_all_models(models, X_train, X_val, y_train, y_val):\n",
    "    \"\"\"\n",
    "    Trains each base model on the training data, predicts on validation data, and \n",
    "    trains a meta-model using the predictions from each base model as features.\n",
    "    \n",
    "    Parameters:\n",
    "        models (list): A list of tuples containing model names and model instances.\n",
    "        X_train (array-like): Training data for the base models.\n",
    "        X_val (array-like): Validation data for generating predictions.\n",
    "        y_train (array-like): Target values for the training data.\n",
    "        y_val (array-like): Target values for the validation data.\n",
    "        \n",
    "    Returns:\n",
    "        MLPRegressor: The meta-model trained on the stacked predictions of base models.\n",
    "    \"\"\"\n",
    "    # Store predictions from each base model to be used as features for meta-model\n",
    "    level_1_features = []\n",
    "\n",
    "    for name, model in models:\n",
    "        # Train each base model on the training data\n",
    "        model.fit(X_train, y_train)\n",
    "        # Predict on the validation set\n",
    "        y_pred = model.predict(X_val)\n",
    "        # Reshape predictions for stacking\n",
    "        y_pred = y_pred.reshape(len(y_pred), 1)\n",
    "        # Appends predictions to the level_1_features list\n",
    "        level_1_features.append(y_pred)\n",
    "\n",
    "    # Horizontally stack all predictions as meta-model features\n",
    "    level_1_features = np.hstack(level_1_features)\n",
    "\n",
    "    # Initialize the meta-model, in this case, a Multi-Layer Perceptron Regressor\n",
    "    meta_model = MLPRegressor()\n",
    "    # Train the meta-model on the stacked features and validation targets\n",
    "    meta_model.fit(level_1_features, y_val)\n",
    "\n",
    "    return meta_model"
   ]
  },
  {
   "cell_type": "code",
   "execution_count": 73,
   "metadata": {},
   "outputs": [],
   "source": [
    "def pred_data(models, meta_model, X_test):\n",
    "    \"\"\"\n",
    "    Predicts on test data using base models and the meta-model for final predictions.\n",
    "    \n",
    "    Parameters:\n",
    "        models (list): A list of tuples containing model names and model instances.\n",
    "        meta_model (MLPRegressor): The trained meta-model to predict on stacked features.\n",
    "        X_test (array-like): Test data for generating predictions.\n",
    "        \n",
    "    Returns:\n",
    "        array: Final predictions made by the meta-model.\n",
    "    \"\"\"\n",
    "    # Store predictions from each base model as input for the meta-model\n",
    "    meta_model_features = []\n",
    "\n",
    "    for name, model in models:\n",
    "        # Predict on the test data using each base model\n",
    "        y_pred = model.predict(X_test)\n",
    "        # Reshape predictions for stacking\n",
    "        y_pred = y_pred.reshape(len(y_pred), 1)\n",
    "        # Append reshaped predictions to the list\n",
    "        meta_model_features.append(y_pred)\n",
    "\n",
    "    # Horizontally stacks all test predictions as meta-model input\n",
    "    meta_model_features = np.hstack(meta_model_features)\n",
    "    \n",
    "    # Returns the meta-model's final predictions on test data\n",
    "    return meta_model.predict(meta_model_features)"
   ]
  },
  {
   "cell_type": "code",
   "execution_count": 74,
   "metadata": {},
   "outputs": [],
   "source": [
    "# Initialize the list of models\n",
    "models = list_models()\n",
    "\n",
    "# Train the stacking model, using the base models to create features for the meta-model\n",
    "meta_model_trained = fit_all_models(models, X_train_split, X_val_split, y_train_split, y_val_split)\n",
    "\n",
    "# Generate predictions on the original training data using the trained meta-model\n",
    "y_predictions = pred_data(models, meta_model_trained, X_train)"
   ]
  },
  {
   "cell_type": "code",
   "execution_count": 75,
   "metadata": {},
   "outputs": [
    {
     "data": {
      "text/plain": [
       "array([2421.43122616, 2586.47675042, 1812.52484586, ...,  592.42142843,\n",
       "       3356.11310804,  281.3946172 ])"
      ]
     },
     "execution_count": 75,
     "metadata": {},
     "output_type": "execute_result"
    }
   ],
   "source": [
    "y_predictions"
   ]
  },
  {
   "cell_type": "markdown",
   "metadata": {},
   "source": [
    "## Model Evaluation"
   ]
  },
  {
   "cell_type": "code",
   "execution_count": 76,
   "metadata": {},
   "outputs": [
    {
     "data": {
      "text/plain": [
       "0.6312200760708326"
      ]
     },
     "execution_count": 76,
     "metadata": {},
     "output_type": "execute_result"
    }
   ],
   "source": [
    "r2_score(y_train, y_predictions)"
   ]
  },
  {
   "cell_type": "code",
   "execution_count": 77,
   "metadata": {},
   "outputs": [
    {
     "data": {
      "text/plain": [
       "array([0.48103211, 0.47671437, 0.48891683])"
      ]
     },
     "execution_count": 77,
     "metadata": {},
     "output_type": "execute_result"
    }
   ],
   "source": [
    "scores = cross_val_score(meta_model_trained, X_train, y_train, cv=3)\n",
    "scores"
   ]
  },
  {
   "cell_type": "code",
   "execution_count": 78,
   "metadata": {},
   "outputs": [
    {
     "name": "stdout",
     "output_type": "stream",
     "text": [
      "0.4822211047848615\n"
     ]
    }
   ],
   "source": [
    "print(scores.mean())"
   ]
  },
  {
   "cell_type": "markdown",
   "metadata": {},
   "source": [
    "**Observation:**\n",
    "\n",
    "The average score, approximately 0.48, suggests that the blending regressor model has worse predictive accuracy on the training data than stacking regressor model."
   ]
  },
  {
   "cell_type": "code",
   "execution_count": 79,
   "metadata": {},
   "outputs": [
    {
     "name": "stdout",
     "output_type": "stream",
     "text": [
      "R2 of Blending is:\n",
      "0.6017943988443193\n",
      "R2 of Stacking is:\n",
      "0.6015128207600244\n",
      "R2 of GBM is:\n",
      "0.6006092611709313\n"
     ]
    }
   ],
   "source": [
    "# Predict the target values for the test set using the blending model (meta-model trained with predictions from base models)\n",
    "y_pred_blend = pred_data(models, meta_model_trained, X_test)\n",
    "print(\"R2 of Blending is:\")\n",
    "# Calculate and display the R2 score for the blending model\n",
    "print(r2_score(y_test, y_pred_blend))\n",
    "\n",
    "# Train the stacking model on the full training data and generate predictions on the test data\n",
    "stacking_trained = stacking_regressor.fit(X_train, y_train)\n",
    "y_pred_stack = stacking_trained.predict(X_test)\n",
    "print(\"R2 of Stacking is:\")\n",
    "# Calculate and displays the R2 score for the stacking model\n",
    "print(r2_score(y_test, y_pred_stack))\n",
    "\n",
    "# Initialize and train a standalone Gradient Boosting Regressor, then generate predictions on the test data\n",
    "gbm_model = GradientBoostingRegressor()\n",
    "# Fit the GBM model on the full training data\n",
    "gbm_model.fit(X_train, y_train)\n",
    "y_pred_gbm = gbm_model.predict(X_test)\n",
    "print(\"R2 of GBM is:\")\n",
    "# Calculates and displays the R2 score for the GBM model\n",
    "print(r2_score(y_test, y_pred_gbm))"
   ]
  },
  {
   "cell_type": "markdown",
   "metadata": {},
   "source": [
    "**Observation:**\n",
    "\n",
    "Based on the outputs, the ```Blending model``` and the ```Stacking model``` show slightly better performance compared to the standalone Gradient Boosting model:\n",
    "* Blending Model: Cross-validation mean R2 score is 0.4822, but the test R2 score is 0.6017, which suggests it performs well in generalization on unseen data.\n",
    "* Stacking Model: Cross-validation mean R2 score is 0.5948, with a test R2 score of 0.6015, indicating consistently strong performance in both cross-validation and test evaluation.\n",
    "* Gradient Boosting Model: Test R2 score of 0.6006, which is slightly lower than both the blending and stacking models.\n",
    "\n",
    "**Next Action:**\n",
    "For hyperparameter tuning, the Blending model and Stacking model should be prioritized, as they exhibit slightly higher R2 scores on the test set compared to the standalone Gradient Boosting model. Focusing on these two models is likely to yield the best improvement in performance on unseen data."
   ]
  },
  {
   "cell_type": "markdown",
   "metadata": {},
   "source": [
    "## Hyperparameter Tuning\n",
    "\n",
    "#### 1. Hyperparameter Tuning for Stacking Model"
   ]
  },
  {
   "cell_type": "code",
   "execution_count": 80,
   "metadata": {},
   "outputs": [],
   "source": [
    "# Define an expanded parameter grid for the stacking model (only tuning fit_intercept as before)\n",
    "stacking_param_grid = {\n",
    "    'final_estimator__alpha': [0.1, 1.0, 10.0],  # Regularization strength for Ridge regression\n",
    "    'final_estimator__fit_intercept': [True, False]  # Whether to calculate the intercept for this model\n",
    "}"
   ]
  },
  {
   "cell_type": "code",
   "execution_count": 81,
   "metadata": {},
   "outputs": [],
   "source": [
    "# Set up GridSearchCV for the stacking model with 5-fold cross-validation for more stable evaluation\n",
    "stacking_grid_search = GridSearchCV(\n",
    "    estimator=stacking_regressor,\n",
    "    param_grid=stacking_param_grid,\n",
    "    cv=5,\n",
    "    scoring='r2',\n",
    "    n_jobs=-1\n",
    ")"
   ]
  },
  {
   "cell_type": "code",
   "execution_count": 82,
   "metadata": {},
   "outputs": [
    {
     "data": {
      "text/html": [
       "<style>#sk-container-id-1 {\n",
       "  /* Definition of color scheme common for light and dark mode */\n",
       "  --sklearn-color-text: black;\n",
       "  --sklearn-color-line: gray;\n",
       "  /* Definition of color scheme for unfitted estimators */\n",
       "  --sklearn-color-unfitted-level-0: #fff5e6;\n",
       "  --sklearn-color-unfitted-level-1: #f6e4d2;\n",
       "  --sklearn-color-unfitted-level-2: #ffe0b3;\n",
       "  --sklearn-color-unfitted-level-3: chocolate;\n",
       "  /* Definition of color scheme for fitted estimators */\n",
       "  --sklearn-color-fitted-level-0: #f0f8ff;\n",
       "  --sklearn-color-fitted-level-1: #d4ebff;\n",
       "  --sklearn-color-fitted-level-2: #b3dbfd;\n",
       "  --sklearn-color-fitted-level-3: cornflowerblue;\n",
       "\n",
       "  /* Specific color for light theme */\n",
       "  --sklearn-color-text-on-default-background: var(--sg-text-color, var(--theme-code-foreground, var(--jp-content-font-color1, black)));\n",
       "  --sklearn-color-background: var(--sg-background-color, var(--theme-background, var(--jp-layout-color0, white)));\n",
       "  --sklearn-color-border-box: var(--sg-text-color, var(--theme-code-foreground, var(--jp-content-font-color1, black)));\n",
       "  --sklearn-color-icon: #696969;\n",
       "\n",
       "  @media (prefers-color-scheme: dark) {\n",
       "    /* Redefinition of color scheme for dark theme */\n",
       "    --sklearn-color-text-on-default-background: var(--sg-text-color, var(--theme-code-foreground, var(--jp-content-font-color1, white)));\n",
       "    --sklearn-color-background: var(--sg-background-color, var(--theme-background, var(--jp-layout-color0, #111)));\n",
       "    --sklearn-color-border-box: var(--sg-text-color, var(--theme-code-foreground, var(--jp-content-font-color1, white)));\n",
       "    --sklearn-color-icon: #878787;\n",
       "  }\n",
       "}\n",
       "\n",
       "#sk-container-id-1 {\n",
       "  color: var(--sklearn-color-text);\n",
       "}\n",
       "\n",
       "#sk-container-id-1 pre {\n",
       "  padding: 0;\n",
       "}\n",
       "\n",
       "#sk-container-id-1 input.sk-hidden--visually {\n",
       "  border: 0;\n",
       "  clip: rect(1px 1px 1px 1px);\n",
       "  clip: rect(1px, 1px, 1px, 1px);\n",
       "  height: 1px;\n",
       "  margin: -1px;\n",
       "  overflow: hidden;\n",
       "  padding: 0;\n",
       "  position: absolute;\n",
       "  width: 1px;\n",
       "}\n",
       "\n",
       "#sk-container-id-1 div.sk-dashed-wrapped {\n",
       "  border: 1px dashed var(--sklearn-color-line);\n",
       "  margin: 0 0.4em 0.5em 0.4em;\n",
       "  box-sizing: border-box;\n",
       "  padding-bottom: 0.4em;\n",
       "  background-color: var(--sklearn-color-background);\n",
       "}\n",
       "\n",
       "#sk-container-id-1 div.sk-container {\n",
       "  /* jupyter's `normalize.less` sets `[hidden] { display: none; }`\n",
       "     but bootstrap.min.css set `[hidden] { display: none !important; }`\n",
       "     so we also need the `!important` here to be able to override the\n",
       "     default hidden behavior on the sphinx rendered scikit-learn.org.\n",
       "     See: https://github.com/scikit-learn/scikit-learn/issues/21755 */\n",
       "  display: inline-block !important;\n",
       "  position: relative;\n",
       "}\n",
       "\n",
       "#sk-container-id-1 div.sk-text-repr-fallback {\n",
       "  display: none;\n",
       "}\n",
       "\n",
       "div.sk-parallel-item,\n",
       "div.sk-serial,\n",
       "div.sk-item {\n",
       "  /* draw centered vertical line to link estimators */\n",
       "  background-image: linear-gradient(var(--sklearn-color-text-on-default-background), var(--sklearn-color-text-on-default-background));\n",
       "  background-size: 2px 100%;\n",
       "  background-repeat: no-repeat;\n",
       "  background-position: center center;\n",
       "}\n",
       "\n",
       "/* Parallel-specific style estimator block */\n",
       "\n",
       "#sk-container-id-1 div.sk-parallel-item::after {\n",
       "  content: \"\";\n",
       "  width: 100%;\n",
       "  border-bottom: 2px solid var(--sklearn-color-text-on-default-background);\n",
       "  flex-grow: 1;\n",
       "}\n",
       "\n",
       "#sk-container-id-1 div.sk-parallel {\n",
       "  display: flex;\n",
       "  align-items: stretch;\n",
       "  justify-content: center;\n",
       "  background-color: var(--sklearn-color-background);\n",
       "  position: relative;\n",
       "}\n",
       "\n",
       "#sk-container-id-1 div.sk-parallel-item {\n",
       "  display: flex;\n",
       "  flex-direction: column;\n",
       "}\n",
       "\n",
       "#sk-container-id-1 div.sk-parallel-item:first-child::after {\n",
       "  align-self: flex-end;\n",
       "  width: 50%;\n",
       "}\n",
       "\n",
       "#sk-container-id-1 div.sk-parallel-item:last-child::after {\n",
       "  align-self: flex-start;\n",
       "  width: 50%;\n",
       "}\n",
       "\n",
       "#sk-container-id-1 div.sk-parallel-item:only-child::after {\n",
       "  width: 0;\n",
       "}\n",
       "\n",
       "/* Serial-specific style estimator block */\n",
       "\n",
       "#sk-container-id-1 div.sk-serial {\n",
       "  display: flex;\n",
       "  flex-direction: column;\n",
       "  align-items: center;\n",
       "  background-color: var(--sklearn-color-background);\n",
       "  padding-right: 1em;\n",
       "  padding-left: 1em;\n",
       "}\n",
       "\n",
       "\n",
       "/* Toggleable style: style used for estimator/Pipeline/ColumnTransformer box that is\n",
       "clickable and can be expanded/collapsed.\n",
       "- Pipeline and ColumnTransformer use this feature and define the default style\n",
       "- Estimators will overwrite some part of the style using the `sk-estimator` class\n",
       "*/\n",
       "\n",
       "/* Pipeline and ColumnTransformer style (default) */\n",
       "\n",
       "#sk-container-id-1 div.sk-toggleable {\n",
       "  /* Default theme specific background. It is overwritten whether we have a\n",
       "  specific estimator or a Pipeline/ColumnTransformer */\n",
       "  background-color: var(--sklearn-color-background);\n",
       "}\n",
       "\n",
       "/* Toggleable label */\n",
       "#sk-container-id-1 label.sk-toggleable__label {\n",
       "  cursor: pointer;\n",
       "  display: block;\n",
       "  width: 100%;\n",
       "  margin-bottom: 0;\n",
       "  padding: 0.5em;\n",
       "  box-sizing: border-box;\n",
       "  text-align: center;\n",
       "}\n",
       "\n",
       "#sk-container-id-1 label.sk-toggleable__label-arrow:before {\n",
       "  /* Arrow on the left of the label */\n",
       "  content: \"▸\";\n",
       "  float: left;\n",
       "  margin-right: 0.25em;\n",
       "  color: var(--sklearn-color-icon);\n",
       "}\n",
       "\n",
       "#sk-container-id-1 label.sk-toggleable__label-arrow:hover:before {\n",
       "  color: var(--sklearn-color-text);\n",
       "}\n",
       "\n",
       "/* Toggleable content - dropdown */\n",
       "\n",
       "#sk-container-id-1 div.sk-toggleable__content {\n",
       "  max-height: 0;\n",
       "  max-width: 0;\n",
       "  overflow: hidden;\n",
       "  text-align: left;\n",
       "  /* unfitted */\n",
       "  background-color: var(--sklearn-color-unfitted-level-0);\n",
       "}\n",
       "\n",
       "#sk-container-id-1 div.sk-toggleable__content.fitted {\n",
       "  /* fitted */\n",
       "  background-color: var(--sklearn-color-fitted-level-0);\n",
       "}\n",
       "\n",
       "#sk-container-id-1 div.sk-toggleable__content pre {\n",
       "  margin: 0.2em;\n",
       "  border-radius: 0.25em;\n",
       "  color: var(--sklearn-color-text);\n",
       "  /* unfitted */\n",
       "  background-color: var(--sklearn-color-unfitted-level-0);\n",
       "}\n",
       "\n",
       "#sk-container-id-1 div.sk-toggleable__content.fitted pre {\n",
       "  /* unfitted */\n",
       "  background-color: var(--sklearn-color-fitted-level-0);\n",
       "}\n",
       "\n",
       "#sk-container-id-1 input.sk-toggleable__control:checked~div.sk-toggleable__content {\n",
       "  /* Expand drop-down */\n",
       "  max-height: 200px;\n",
       "  max-width: 100%;\n",
       "  overflow: auto;\n",
       "}\n",
       "\n",
       "#sk-container-id-1 input.sk-toggleable__control:checked~label.sk-toggleable__label-arrow:before {\n",
       "  content: \"▾\";\n",
       "}\n",
       "\n",
       "/* Pipeline/ColumnTransformer-specific style */\n",
       "\n",
       "#sk-container-id-1 div.sk-label input.sk-toggleable__control:checked~label.sk-toggleable__label {\n",
       "  color: var(--sklearn-color-text);\n",
       "  background-color: var(--sklearn-color-unfitted-level-2);\n",
       "}\n",
       "\n",
       "#sk-container-id-1 div.sk-label.fitted input.sk-toggleable__control:checked~label.sk-toggleable__label {\n",
       "  background-color: var(--sklearn-color-fitted-level-2);\n",
       "}\n",
       "\n",
       "/* Estimator-specific style */\n",
       "\n",
       "/* Colorize estimator box */\n",
       "#sk-container-id-1 div.sk-estimator input.sk-toggleable__control:checked~label.sk-toggleable__label {\n",
       "  /* unfitted */\n",
       "  background-color: var(--sklearn-color-unfitted-level-2);\n",
       "}\n",
       "\n",
       "#sk-container-id-1 div.sk-estimator.fitted input.sk-toggleable__control:checked~label.sk-toggleable__label {\n",
       "  /* fitted */\n",
       "  background-color: var(--sklearn-color-fitted-level-2);\n",
       "}\n",
       "\n",
       "#sk-container-id-1 div.sk-label label.sk-toggleable__label,\n",
       "#sk-container-id-1 div.sk-label label {\n",
       "  /* The background is the default theme color */\n",
       "  color: var(--sklearn-color-text-on-default-background);\n",
       "}\n",
       "\n",
       "/* On hover, darken the color of the background */\n",
       "#sk-container-id-1 div.sk-label:hover label.sk-toggleable__label {\n",
       "  color: var(--sklearn-color-text);\n",
       "  background-color: var(--sklearn-color-unfitted-level-2);\n",
       "}\n",
       "\n",
       "/* Label box, darken color on hover, fitted */\n",
       "#sk-container-id-1 div.sk-label.fitted:hover label.sk-toggleable__label.fitted {\n",
       "  color: var(--sklearn-color-text);\n",
       "  background-color: var(--sklearn-color-fitted-level-2);\n",
       "}\n",
       "\n",
       "/* Estimator label */\n",
       "\n",
       "#sk-container-id-1 div.sk-label label {\n",
       "  font-family: monospace;\n",
       "  font-weight: bold;\n",
       "  display: inline-block;\n",
       "  line-height: 1.2em;\n",
       "}\n",
       "\n",
       "#sk-container-id-1 div.sk-label-container {\n",
       "  text-align: center;\n",
       "}\n",
       "\n",
       "/* Estimator-specific */\n",
       "#sk-container-id-1 div.sk-estimator {\n",
       "  font-family: monospace;\n",
       "  border: 1px dotted var(--sklearn-color-border-box);\n",
       "  border-radius: 0.25em;\n",
       "  box-sizing: border-box;\n",
       "  margin-bottom: 0.5em;\n",
       "  /* unfitted */\n",
       "  background-color: var(--sklearn-color-unfitted-level-0);\n",
       "}\n",
       "\n",
       "#sk-container-id-1 div.sk-estimator.fitted {\n",
       "  /* fitted */\n",
       "  background-color: var(--sklearn-color-fitted-level-0);\n",
       "}\n",
       "\n",
       "/* on hover */\n",
       "#sk-container-id-1 div.sk-estimator:hover {\n",
       "  /* unfitted */\n",
       "  background-color: var(--sklearn-color-unfitted-level-2);\n",
       "}\n",
       "\n",
       "#sk-container-id-1 div.sk-estimator.fitted:hover {\n",
       "  /* fitted */\n",
       "  background-color: var(--sklearn-color-fitted-level-2);\n",
       "}\n",
       "\n",
       "/* Specification for estimator info (e.g. \"i\" and \"?\") */\n",
       "\n",
       "/* Common style for \"i\" and \"?\" */\n",
       "\n",
       ".sk-estimator-doc-link,\n",
       "a:link.sk-estimator-doc-link,\n",
       "a:visited.sk-estimator-doc-link {\n",
       "  float: right;\n",
       "  font-size: smaller;\n",
       "  line-height: 1em;\n",
       "  font-family: monospace;\n",
       "  background-color: var(--sklearn-color-background);\n",
       "  border-radius: 1em;\n",
       "  height: 1em;\n",
       "  width: 1em;\n",
       "  text-decoration: none !important;\n",
       "  margin-left: 1ex;\n",
       "  /* unfitted */\n",
       "  border: var(--sklearn-color-unfitted-level-1) 1pt solid;\n",
       "  color: var(--sklearn-color-unfitted-level-1);\n",
       "}\n",
       "\n",
       ".sk-estimator-doc-link.fitted,\n",
       "a:link.sk-estimator-doc-link.fitted,\n",
       "a:visited.sk-estimator-doc-link.fitted {\n",
       "  /* fitted */\n",
       "  border: var(--sklearn-color-fitted-level-1) 1pt solid;\n",
       "  color: var(--sklearn-color-fitted-level-1);\n",
       "}\n",
       "\n",
       "/* On hover */\n",
       "div.sk-estimator:hover .sk-estimator-doc-link:hover,\n",
       ".sk-estimator-doc-link:hover,\n",
       "div.sk-label-container:hover .sk-estimator-doc-link:hover,\n",
       ".sk-estimator-doc-link:hover {\n",
       "  /* unfitted */\n",
       "  background-color: var(--sklearn-color-unfitted-level-3);\n",
       "  color: var(--sklearn-color-background);\n",
       "  text-decoration: none;\n",
       "}\n",
       "\n",
       "div.sk-estimator.fitted:hover .sk-estimator-doc-link.fitted:hover,\n",
       ".sk-estimator-doc-link.fitted:hover,\n",
       "div.sk-label-container:hover .sk-estimator-doc-link.fitted:hover,\n",
       ".sk-estimator-doc-link.fitted:hover {\n",
       "  /* fitted */\n",
       "  background-color: var(--sklearn-color-fitted-level-3);\n",
       "  color: var(--sklearn-color-background);\n",
       "  text-decoration: none;\n",
       "}\n",
       "\n",
       "/* Span, style for the box shown on hovering the info icon */\n",
       ".sk-estimator-doc-link span {\n",
       "  display: none;\n",
       "  z-index: 9999;\n",
       "  position: relative;\n",
       "  font-weight: normal;\n",
       "  right: .2ex;\n",
       "  padding: .5ex;\n",
       "  margin: .5ex;\n",
       "  width: min-content;\n",
       "  min-width: 20ex;\n",
       "  max-width: 50ex;\n",
       "  color: var(--sklearn-color-text);\n",
       "  box-shadow: 2pt 2pt 4pt #999;\n",
       "  /* unfitted */\n",
       "  background: var(--sklearn-color-unfitted-level-0);\n",
       "  border: .5pt solid var(--sklearn-color-unfitted-level-3);\n",
       "}\n",
       "\n",
       ".sk-estimator-doc-link.fitted span {\n",
       "  /* fitted */\n",
       "  background: var(--sklearn-color-fitted-level-0);\n",
       "  border: var(--sklearn-color-fitted-level-3);\n",
       "}\n",
       "\n",
       ".sk-estimator-doc-link:hover span {\n",
       "  display: block;\n",
       "}\n",
       "\n",
       "/* \"?\"-specific style due to the `<a>` HTML tag */\n",
       "\n",
       "#sk-container-id-1 a.estimator_doc_link {\n",
       "  float: right;\n",
       "  font-size: 1rem;\n",
       "  line-height: 1em;\n",
       "  font-family: monospace;\n",
       "  background-color: var(--sklearn-color-background);\n",
       "  border-radius: 1rem;\n",
       "  height: 1rem;\n",
       "  width: 1rem;\n",
       "  text-decoration: none;\n",
       "  /* unfitted */\n",
       "  color: var(--sklearn-color-unfitted-level-1);\n",
       "  border: var(--sklearn-color-unfitted-level-1) 1pt solid;\n",
       "}\n",
       "\n",
       "#sk-container-id-1 a.estimator_doc_link.fitted {\n",
       "  /* fitted */\n",
       "  border: var(--sklearn-color-fitted-level-1) 1pt solid;\n",
       "  color: var(--sklearn-color-fitted-level-1);\n",
       "}\n",
       "\n",
       "/* On hover */\n",
       "#sk-container-id-1 a.estimator_doc_link:hover {\n",
       "  /* unfitted */\n",
       "  background-color: var(--sklearn-color-unfitted-level-3);\n",
       "  color: var(--sklearn-color-background);\n",
       "  text-decoration: none;\n",
       "}\n",
       "\n",
       "#sk-container-id-1 a.estimator_doc_link.fitted:hover {\n",
       "  /* fitted */\n",
       "  background-color: var(--sklearn-color-fitted-level-3);\n",
       "}\n",
       "</style><div id=\"sk-container-id-1\" class=\"sk-top-container\"><div class=\"sk-text-repr-fallback\"><pre>GridSearchCV(cv=5,\n",
       "             estimator=StackingRegressor(estimators=[(&#x27;LR&#x27;, LinearRegression()),\n",
       "                                                     (&#x27;GBM&#x27;,\n",
       "                                                      GradientBoostingRegressor())],\n",
       "                                         final_estimator=Ridge()),\n",
       "             n_jobs=-1,\n",
       "             param_grid={&#x27;final_estimator__alpha&#x27;: [0.1, 1.0, 10.0],\n",
       "                         &#x27;final_estimator__fit_intercept&#x27;: [True, False]},\n",
       "             scoring=&#x27;r2&#x27;)</pre><b>In a Jupyter environment, please rerun this cell to show the HTML representation or trust the notebook. <br />On GitHub, the HTML representation is unable to render, please try loading this page with nbviewer.org.</b></div><div class=\"sk-container\" hidden><div class=\"sk-item sk-dashed-wrapped\"><div class=\"sk-label-container\"><div class=\"sk-label fitted sk-toggleable\"><input class=\"sk-toggleable__control sk-hidden--visually\" id=\"sk-estimator-id-1\" type=\"checkbox\" ><label for=\"sk-estimator-id-1\" class=\"sk-toggleable__label fitted sk-toggleable__label-arrow fitted\">&nbsp;&nbsp;GridSearchCV<a class=\"sk-estimator-doc-link fitted\" rel=\"noreferrer\" target=\"_blank\" href=\"https://scikit-learn.org/1.5/modules/generated/sklearn.model_selection.GridSearchCV.html\">?<span>Documentation for GridSearchCV</span></a><span class=\"sk-estimator-doc-link fitted\">i<span>Fitted</span></span></label><div class=\"sk-toggleable__content fitted\"><pre>GridSearchCV(cv=5,\n",
       "             estimator=StackingRegressor(estimators=[(&#x27;LR&#x27;, LinearRegression()),\n",
       "                                                     (&#x27;GBM&#x27;,\n",
       "                                                      GradientBoostingRegressor())],\n",
       "                                         final_estimator=Ridge()),\n",
       "             n_jobs=-1,\n",
       "             param_grid={&#x27;final_estimator__alpha&#x27;: [0.1, 1.0, 10.0],\n",
       "                         &#x27;final_estimator__fit_intercept&#x27;: [True, False]},\n",
       "             scoring=&#x27;r2&#x27;)</pre></div> </div></div><div class=\"sk-parallel\"><div class=\"sk-parallel-item\"><div class=\"sk-item\"><div class=\"sk-label-container\"><div class=\"sk-label fitted sk-toggleable\"><input class=\"sk-toggleable__control sk-hidden--visually\" id=\"sk-estimator-id-2\" type=\"checkbox\" ><label for=\"sk-estimator-id-2\" class=\"sk-toggleable__label fitted sk-toggleable__label-arrow fitted\">best_estimator_: StackingRegressor</label><div class=\"sk-toggleable__content fitted\"><pre>StackingRegressor(estimators=[(&#x27;LR&#x27;, LinearRegression()),\n",
       "                              (&#x27;GBM&#x27;, GradientBoostingRegressor())],\n",
       "                  final_estimator=Ridge(alpha=10.0, fit_intercept=False))</pre></div> </div></div><div class=\"sk-serial\"><div class=\"sk-item\"><div class=\"sk-serial\"><div class=\"sk-item\"><div class=\"sk-parallel\"><div class=\"sk-parallel-item\"><div class=\"sk-item\"><div class=\"sk-label-container\"><div class=\"sk-label fitted sk-toggleable\"><label>LR</label></div></div><div class=\"sk-serial\"><div class=\"sk-item\"><div class=\"sk-estimator fitted sk-toggleable\"><input class=\"sk-toggleable__control sk-hidden--visually\" id=\"sk-estimator-id-3\" type=\"checkbox\" ><label for=\"sk-estimator-id-3\" class=\"sk-toggleable__label fitted sk-toggleable__label-arrow fitted\">&nbsp;LinearRegression<a class=\"sk-estimator-doc-link fitted\" rel=\"noreferrer\" target=\"_blank\" href=\"https://scikit-learn.org/1.5/modules/generated/sklearn.linear_model.LinearRegression.html\">?<span>Documentation for LinearRegression</span></a></label><div class=\"sk-toggleable__content fitted\"><pre>LinearRegression()</pre></div> </div></div></div></div></div><div class=\"sk-parallel-item\"><div class=\"sk-item\"><div class=\"sk-label-container\"><div class=\"sk-label fitted sk-toggleable\"><label>GBM</label></div></div><div class=\"sk-serial\"><div class=\"sk-item\"><div class=\"sk-estimator fitted sk-toggleable\"><input class=\"sk-toggleable__control sk-hidden--visually\" id=\"sk-estimator-id-4\" type=\"checkbox\" ><label for=\"sk-estimator-id-4\" class=\"sk-toggleable__label fitted sk-toggleable__label-arrow fitted\">&nbsp;GradientBoostingRegressor<a class=\"sk-estimator-doc-link fitted\" rel=\"noreferrer\" target=\"_blank\" href=\"https://scikit-learn.org/1.5/modules/generated/sklearn.ensemble.GradientBoostingRegressor.html\">?<span>Documentation for GradientBoostingRegressor</span></a></label><div class=\"sk-toggleable__content fitted\"><pre>GradientBoostingRegressor()</pre></div> </div></div></div></div></div></div></div><div class=\"sk-item\"><div class=\"sk-parallel\"><div class=\"sk-parallel-item\"><div class=\"sk-item\"><div class=\"sk-label-container\"><div class=\"sk-label fitted sk-toggleable\"><label>final_estimator</label></div></div><div class=\"sk-serial\"><div class=\"sk-item\"><div class=\"sk-estimator fitted sk-toggleable\"><input class=\"sk-toggleable__control sk-hidden--visually\" id=\"sk-estimator-id-5\" type=\"checkbox\" ><label for=\"sk-estimator-id-5\" class=\"sk-toggleable__label fitted sk-toggleable__label-arrow fitted\">&nbsp;Ridge<a class=\"sk-estimator-doc-link fitted\" rel=\"noreferrer\" target=\"_blank\" href=\"https://scikit-learn.org/1.5/modules/generated/sklearn.linear_model.Ridge.html\">?<span>Documentation for Ridge</span></a></label><div class=\"sk-toggleable__content fitted\"><pre>Ridge(alpha=10.0, fit_intercept=False)</pre></div> </div></div></div></div></div></div></div></div></div></div></div></div></div></div></div></div>"
      ],
      "text/plain": [
       "GridSearchCV(cv=5,\n",
       "             estimator=StackingRegressor(estimators=[('LR', LinearRegression()),\n",
       "                                                     ('GBM',\n",
       "                                                      GradientBoostingRegressor())],\n",
       "                                         final_estimator=Ridge()),\n",
       "             n_jobs=-1,\n",
       "             param_grid={'final_estimator__alpha': [0.1, 1.0, 10.0],\n",
       "                         'final_estimator__fit_intercept': [True, False]},\n",
       "             scoring='r2')"
      ]
     },
     "execution_count": 82,
     "metadata": {},
     "output_type": "execute_result"
    }
   ],
   "source": [
    "# Fit the grid search on training data for the stacking model\n",
    "stacking_grid_search.fit(X_train, y_train)"
   ]
  },
  {
   "cell_type": "code",
   "execution_count": 83,
   "metadata": {},
   "outputs": [],
   "source": [
    "# Retrieve and evaluate the best stacking model\n",
    "best_stacking_model = stacking_grid_search.best_estimator_"
   ]
  },
  {
   "cell_type": "code",
   "execution_count": 84,
   "metadata": {},
   "outputs": [
    {
     "name": "stdout",
     "output_type": "stream",
     "text": [
      "Best R2 for Stacking Model (after tuning):\n",
      "0.6016203633058869\n"
     ]
    }
   ],
   "source": [
    "# Predict on test data using the best stacking model and calculate R2 score\n",
    "y_pred_best_stack = best_stacking_model.predict(X_test)\n",
    "print(\"Best R2 for Stacking Model (after tuning):\")\n",
    "print(r2_score(y_test, y_pred_best_stack))"
   ]
  },
  {
   "cell_type": "markdown",
   "metadata": {},
   "source": [
    "#### 2. Hyperparameter Tuning for Blending Model"
   ]
  },
  {
   "cell_type": "code",
   "execution_count": 85,
   "metadata": {},
   "outputs": [],
   "source": [
    "# Define parameter grids for the base models and the meta-model\n",
    "\n",
    "# Parameter grid for Linear Regression\n",
    "lr_param_grid = {\n",
    "    'fit_intercept': [True, False]\n",
    "}\n",
    "\n",
    "# Parameter grid for Gradient Boosting Regressor\n",
    "gbr_param_grid = {\n",
    "    'n_estimators': [100, 200],         # Number of boosting stages\n",
    "    'learning_rate': [0.05, 0.1, 0.2],  # Learning rate shrinks contribution of each tree\n",
    "    'max_depth': [3, 4, 5]              # Maximum depth of the trees\n",
    "}\n",
    "\n",
    "# Parameter grid for the meta-model (MLPRegressor)\n",
    "meta_param_grid = {\n",
    "    'hidden_layer_sizes': [(50,), (100,)],  # Number of neurons in the hidden layer(s)\n",
    "    'activation': ['relu', 'tanh'],         # Activation functions for hidden layers\n",
    "    'alpha': [0.0001, 0.001],               # Regularization parameter\n",
    "    'learning_rate': ['constant', 'adaptive']\n",
    "}"
   ]
  },
  {
   "cell_type": "code",
   "execution_count": 86,
   "metadata": {},
   "outputs": [],
   "source": [
    "# Initialize the base models with individual GridSearchCV for each\n",
    "# GridSearch for Linear Regression (base model)\n",
    "lr_search = GridSearchCV(\n",
    "    estimator=LinearRegression(),\n",
    "    param_grid=lr_param_grid,\n",
    "    scoring='r2',\n",
    "    cv=3,\n",
    "    n_jobs=-1\n",
    ")"
   ]
  },
  {
   "cell_type": "code",
   "execution_count": 87,
   "metadata": {},
   "outputs": [
    {
     "data": {
      "text/html": [
       "<style>#sk-container-id-2 {\n",
       "  /* Definition of color scheme common for light and dark mode */\n",
       "  --sklearn-color-text: black;\n",
       "  --sklearn-color-line: gray;\n",
       "  /* Definition of color scheme for unfitted estimators */\n",
       "  --sklearn-color-unfitted-level-0: #fff5e6;\n",
       "  --sklearn-color-unfitted-level-1: #f6e4d2;\n",
       "  --sklearn-color-unfitted-level-2: #ffe0b3;\n",
       "  --sklearn-color-unfitted-level-3: chocolate;\n",
       "  /* Definition of color scheme for fitted estimators */\n",
       "  --sklearn-color-fitted-level-0: #f0f8ff;\n",
       "  --sklearn-color-fitted-level-1: #d4ebff;\n",
       "  --sklearn-color-fitted-level-2: #b3dbfd;\n",
       "  --sklearn-color-fitted-level-3: cornflowerblue;\n",
       "\n",
       "  /* Specific color for light theme */\n",
       "  --sklearn-color-text-on-default-background: var(--sg-text-color, var(--theme-code-foreground, var(--jp-content-font-color1, black)));\n",
       "  --sklearn-color-background: var(--sg-background-color, var(--theme-background, var(--jp-layout-color0, white)));\n",
       "  --sklearn-color-border-box: var(--sg-text-color, var(--theme-code-foreground, var(--jp-content-font-color1, black)));\n",
       "  --sklearn-color-icon: #696969;\n",
       "\n",
       "  @media (prefers-color-scheme: dark) {\n",
       "    /* Redefinition of color scheme for dark theme */\n",
       "    --sklearn-color-text-on-default-background: var(--sg-text-color, var(--theme-code-foreground, var(--jp-content-font-color1, white)));\n",
       "    --sklearn-color-background: var(--sg-background-color, var(--theme-background, var(--jp-layout-color0, #111)));\n",
       "    --sklearn-color-border-box: var(--sg-text-color, var(--theme-code-foreground, var(--jp-content-font-color1, white)));\n",
       "    --sklearn-color-icon: #878787;\n",
       "  }\n",
       "}\n",
       "\n",
       "#sk-container-id-2 {\n",
       "  color: var(--sklearn-color-text);\n",
       "}\n",
       "\n",
       "#sk-container-id-2 pre {\n",
       "  padding: 0;\n",
       "}\n",
       "\n",
       "#sk-container-id-2 input.sk-hidden--visually {\n",
       "  border: 0;\n",
       "  clip: rect(1px 1px 1px 1px);\n",
       "  clip: rect(1px, 1px, 1px, 1px);\n",
       "  height: 1px;\n",
       "  margin: -1px;\n",
       "  overflow: hidden;\n",
       "  padding: 0;\n",
       "  position: absolute;\n",
       "  width: 1px;\n",
       "}\n",
       "\n",
       "#sk-container-id-2 div.sk-dashed-wrapped {\n",
       "  border: 1px dashed var(--sklearn-color-line);\n",
       "  margin: 0 0.4em 0.5em 0.4em;\n",
       "  box-sizing: border-box;\n",
       "  padding-bottom: 0.4em;\n",
       "  background-color: var(--sklearn-color-background);\n",
       "}\n",
       "\n",
       "#sk-container-id-2 div.sk-container {\n",
       "  /* jupyter's `normalize.less` sets `[hidden] { display: none; }`\n",
       "     but bootstrap.min.css set `[hidden] { display: none !important; }`\n",
       "     so we also need the `!important` here to be able to override the\n",
       "     default hidden behavior on the sphinx rendered scikit-learn.org.\n",
       "     See: https://github.com/scikit-learn/scikit-learn/issues/21755 */\n",
       "  display: inline-block !important;\n",
       "  position: relative;\n",
       "}\n",
       "\n",
       "#sk-container-id-2 div.sk-text-repr-fallback {\n",
       "  display: none;\n",
       "}\n",
       "\n",
       "div.sk-parallel-item,\n",
       "div.sk-serial,\n",
       "div.sk-item {\n",
       "  /* draw centered vertical line to link estimators */\n",
       "  background-image: linear-gradient(var(--sklearn-color-text-on-default-background), var(--sklearn-color-text-on-default-background));\n",
       "  background-size: 2px 100%;\n",
       "  background-repeat: no-repeat;\n",
       "  background-position: center center;\n",
       "}\n",
       "\n",
       "/* Parallel-specific style estimator block */\n",
       "\n",
       "#sk-container-id-2 div.sk-parallel-item::after {\n",
       "  content: \"\";\n",
       "  width: 100%;\n",
       "  border-bottom: 2px solid var(--sklearn-color-text-on-default-background);\n",
       "  flex-grow: 1;\n",
       "}\n",
       "\n",
       "#sk-container-id-2 div.sk-parallel {\n",
       "  display: flex;\n",
       "  align-items: stretch;\n",
       "  justify-content: center;\n",
       "  background-color: var(--sklearn-color-background);\n",
       "  position: relative;\n",
       "}\n",
       "\n",
       "#sk-container-id-2 div.sk-parallel-item {\n",
       "  display: flex;\n",
       "  flex-direction: column;\n",
       "}\n",
       "\n",
       "#sk-container-id-2 div.sk-parallel-item:first-child::after {\n",
       "  align-self: flex-end;\n",
       "  width: 50%;\n",
       "}\n",
       "\n",
       "#sk-container-id-2 div.sk-parallel-item:last-child::after {\n",
       "  align-self: flex-start;\n",
       "  width: 50%;\n",
       "}\n",
       "\n",
       "#sk-container-id-2 div.sk-parallel-item:only-child::after {\n",
       "  width: 0;\n",
       "}\n",
       "\n",
       "/* Serial-specific style estimator block */\n",
       "\n",
       "#sk-container-id-2 div.sk-serial {\n",
       "  display: flex;\n",
       "  flex-direction: column;\n",
       "  align-items: center;\n",
       "  background-color: var(--sklearn-color-background);\n",
       "  padding-right: 1em;\n",
       "  padding-left: 1em;\n",
       "}\n",
       "\n",
       "\n",
       "/* Toggleable style: style used for estimator/Pipeline/ColumnTransformer box that is\n",
       "clickable and can be expanded/collapsed.\n",
       "- Pipeline and ColumnTransformer use this feature and define the default style\n",
       "- Estimators will overwrite some part of the style using the `sk-estimator` class\n",
       "*/\n",
       "\n",
       "/* Pipeline and ColumnTransformer style (default) */\n",
       "\n",
       "#sk-container-id-2 div.sk-toggleable {\n",
       "  /* Default theme specific background. It is overwritten whether we have a\n",
       "  specific estimator or a Pipeline/ColumnTransformer */\n",
       "  background-color: var(--sklearn-color-background);\n",
       "}\n",
       "\n",
       "/* Toggleable label */\n",
       "#sk-container-id-2 label.sk-toggleable__label {\n",
       "  cursor: pointer;\n",
       "  display: block;\n",
       "  width: 100%;\n",
       "  margin-bottom: 0;\n",
       "  padding: 0.5em;\n",
       "  box-sizing: border-box;\n",
       "  text-align: center;\n",
       "}\n",
       "\n",
       "#sk-container-id-2 label.sk-toggleable__label-arrow:before {\n",
       "  /* Arrow on the left of the label */\n",
       "  content: \"▸\";\n",
       "  float: left;\n",
       "  margin-right: 0.25em;\n",
       "  color: var(--sklearn-color-icon);\n",
       "}\n",
       "\n",
       "#sk-container-id-2 label.sk-toggleable__label-arrow:hover:before {\n",
       "  color: var(--sklearn-color-text);\n",
       "}\n",
       "\n",
       "/* Toggleable content - dropdown */\n",
       "\n",
       "#sk-container-id-2 div.sk-toggleable__content {\n",
       "  max-height: 0;\n",
       "  max-width: 0;\n",
       "  overflow: hidden;\n",
       "  text-align: left;\n",
       "  /* unfitted */\n",
       "  background-color: var(--sklearn-color-unfitted-level-0);\n",
       "}\n",
       "\n",
       "#sk-container-id-2 div.sk-toggleable__content.fitted {\n",
       "  /* fitted */\n",
       "  background-color: var(--sklearn-color-fitted-level-0);\n",
       "}\n",
       "\n",
       "#sk-container-id-2 div.sk-toggleable__content pre {\n",
       "  margin: 0.2em;\n",
       "  border-radius: 0.25em;\n",
       "  color: var(--sklearn-color-text);\n",
       "  /* unfitted */\n",
       "  background-color: var(--sklearn-color-unfitted-level-0);\n",
       "}\n",
       "\n",
       "#sk-container-id-2 div.sk-toggleable__content.fitted pre {\n",
       "  /* unfitted */\n",
       "  background-color: var(--sklearn-color-fitted-level-0);\n",
       "}\n",
       "\n",
       "#sk-container-id-2 input.sk-toggleable__control:checked~div.sk-toggleable__content {\n",
       "  /* Expand drop-down */\n",
       "  max-height: 200px;\n",
       "  max-width: 100%;\n",
       "  overflow: auto;\n",
       "}\n",
       "\n",
       "#sk-container-id-2 input.sk-toggleable__control:checked~label.sk-toggleable__label-arrow:before {\n",
       "  content: \"▾\";\n",
       "}\n",
       "\n",
       "/* Pipeline/ColumnTransformer-specific style */\n",
       "\n",
       "#sk-container-id-2 div.sk-label input.sk-toggleable__control:checked~label.sk-toggleable__label {\n",
       "  color: var(--sklearn-color-text);\n",
       "  background-color: var(--sklearn-color-unfitted-level-2);\n",
       "}\n",
       "\n",
       "#sk-container-id-2 div.sk-label.fitted input.sk-toggleable__control:checked~label.sk-toggleable__label {\n",
       "  background-color: var(--sklearn-color-fitted-level-2);\n",
       "}\n",
       "\n",
       "/* Estimator-specific style */\n",
       "\n",
       "/* Colorize estimator box */\n",
       "#sk-container-id-2 div.sk-estimator input.sk-toggleable__control:checked~label.sk-toggleable__label {\n",
       "  /* unfitted */\n",
       "  background-color: var(--sklearn-color-unfitted-level-2);\n",
       "}\n",
       "\n",
       "#sk-container-id-2 div.sk-estimator.fitted input.sk-toggleable__control:checked~label.sk-toggleable__label {\n",
       "  /* fitted */\n",
       "  background-color: var(--sklearn-color-fitted-level-2);\n",
       "}\n",
       "\n",
       "#sk-container-id-2 div.sk-label label.sk-toggleable__label,\n",
       "#sk-container-id-2 div.sk-label label {\n",
       "  /* The background is the default theme color */\n",
       "  color: var(--sklearn-color-text-on-default-background);\n",
       "}\n",
       "\n",
       "/* On hover, darken the color of the background */\n",
       "#sk-container-id-2 div.sk-label:hover label.sk-toggleable__label {\n",
       "  color: var(--sklearn-color-text);\n",
       "  background-color: var(--sklearn-color-unfitted-level-2);\n",
       "}\n",
       "\n",
       "/* Label box, darken color on hover, fitted */\n",
       "#sk-container-id-2 div.sk-label.fitted:hover label.sk-toggleable__label.fitted {\n",
       "  color: var(--sklearn-color-text);\n",
       "  background-color: var(--sklearn-color-fitted-level-2);\n",
       "}\n",
       "\n",
       "/* Estimator label */\n",
       "\n",
       "#sk-container-id-2 div.sk-label label {\n",
       "  font-family: monospace;\n",
       "  font-weight: bold;\n",
       "  display: inline-block;\n",
       "  line-height: 1.2em;\n",
       "}\n",
       "\n",
       "#sk-container-id-2 div.sk-label-container {\n",
       "  text-align: center;\n",
       "}\n",
       "\n",
       "/* Estimator-specific */\n",
       "#sk-container-id-2 div.sk-estimator {\n",
       "  font-family: monospace;\n",
       "  border: 1px dotted var(--sklearn-color-border-box);\n",
       "  border-radius: 0.25em;\n",
       "  box-sizing: border-box;\n",
       "  margin-bottom: 0.5em;\n",
       "  /* unfitted */\n",
       "  background-color: var(--sklearn-color-unfitted-level-0);\n",
       "}\n",
       "\n",
       "#sk-container-id-2 div.sk-estimator.fitted {\n",
       "  /* fitted */\n",
       "  background-color: var(--sklearn-color-fitted-level-0);\n",
       "}\n",
       "\n",
       "/* on hover */\n",
       "#sk-container-id-2 div.sk-estimator:hover {\n",
       "  /* unfitted */\n",
       "  background-color: var(--sklearn-color-unfitted-level-2);\n",
       "}\n",
       "\n",
       "#sk-container-id-2 div.sk-estimator.fitted:hover {\n",
       "  /* fitted */\n",
       "  background-color: var(--sklearn-color-fitted-level-2);\n",
       "}\n",
       "\n",
       "/* Specification for estimator info (e.g. \"i\" and \"?\") */\n",
       "\n",
       "/* Common style for \"i\" and \"?\" */\n",
       "\n",
       ".sk-estimator-doc-link,\n",
       "a:link.sk-estimator-doc-link,\n",
       "a:visited.sk-estimator-doc-link {\n",
       "  float: right;\n",
       "  font-size: smaller;\n",
       "  line-height: 1em;\n",
       "  font-family: monospace;\n",
       "  background-color: var(--sklearn-color-background);\n",
       "  border-radius: 1em;\n",
       "  height: 1em;\n",
       "  width: 1em;\n",
       "  text-decoration: none !important;\n",
       "  margin-left: 1ex;\n",
       "  /* unfitted */\n",
       "  border: var(--sklearn-color-unfitted-level-1) 1pt solid;\n",
       "  color: var(--sklearn-color-unfitted-level-1);\n",
       "}\n",
       "\n",
       ".sk-estimator-doc-link.fitted,\n",
       "a:link.sk-estimator-doc-link.fitted,\n",
       "a:visited.sk-estimator-doc-link.fitted {\n",
       "  /* fitted */\n",
       "  border: var(--sklearn-color-fitted-level-1) 1pt solid;\n",
       "  color: var(--sklearn-color-fitted-level-1);\n",
       "}\n",
       "\n",
       "/* On hover */\n",
       "div.sk-estimator:hover .sk-estimator-doc-link:hover,\n",
       ".sk-estimator-doc-link:hover,\n",
       "div.sk-label-container:hover .sk-estimator-doc-link:hover,\n",
       ".sk-estimator-doc-link:hover {\n",
       "  /* unfitted */\n",
       "  background-color: var(--sklearn-color-unfitted-level-3);\n",
       "  color: var(--sklearn-color-background);\n",
       "  text-decoration: none;\n",
       "}\n",
       "\n",
       "div.sk-estimator.fitted:hover .sk-estimator-doc-link.fitted:hover,\n",
       ".sk-estimator-doc-link.fitted:hover,\n",
       "div.sk-label-container:hover .sk-estimator-doc-link.fitted:hover,\n",
       ".sk-estimator-doc-link.fitted:hover {\n",
       "  /* fitted */\n",
       "  background-color: var(--sklearn-color-fitted-level-3);\n",
       "  color: var(--sklearn-color-background);\n",
       "  text-decoration: none;\n",
       "}\n",
       "\n",
       "/* Span, style for the box shown on hovering the info icon */\n",
       ".sk-estimator-doc-link span {\n",
       "  display: none;\n",
       "  z-index: 9999;\n",
       "  position: relative;\n",
       "  font-weight: normal;\n",
       "  right: .2ex;\n",
       "  padding: .5ex;\n",
       "  margin: .5ex;\n",
       "  width: min-content;\n",
       "  min-width: 20ex;\n",
       "  max-width: 50ex;\n",
       "  color: var(--sklearn-color-text);\n",
       "  box-shadow: 2pt 2pt 4pt #999;\n",
       "  /* unfitted */\n",
       "  background: var(--sklearn-color-unfitted-level-0);\n",
       "  border: .5pt solid var(--sklearn-color-unfitted-level-3);\n",
       "}\n",
       "\n",
       ".sk-estimator-doc-link.fitted span {\n",
       "  /* fitted */\n",
       "  background: var(--sklearn-color-fitted-level-0);\n",
       "  border: var(--sklearn-color-fitted-level-3);\n",
       "}\n",
       "\n",
       ".sk-estimator-doc-link:hover span {\n",
       "  display: block;\n",
       "}\n",
       "\n",
       "/* \"?\"-specific style due to the `<a>` HTML tag */\n",
       "\n",
       "#sk-container-id-2 a.estimator_doc_link {\n",
       "  float: right;\n",
       "  font-size: 1rem;\n",
       "  line-height: 1em;\n",
       "  font-family: monospace;\n",
       "  background-color: var(--sklearn-color-background);\n",
       "  border-radius: 1rem;\n",
       "  height: 1rem;\n",
       "  width: 1rem;\n",
       "  text-decoration: none;\n",
       "  /* unfitted */\n",
       "  color: var(--sklearn-color-unfitted-level-1);\n",
       "  border: var(--sklearn-color-unfitted-level-1) 1pt solid;\n",
       "}\n",
       "\n",
       "#sk-container-id-2 a.estimator_doc_link.fitted {\n",
       "  /* fitted */\n",
       "  border: var(--sklearn-color-fitted-level-1) 1pt solid;\n",
       "  color: var(--sklearn-color-fitted-level-1);\n",
       "}\n",
       "\n",
       "/* On hover */\n",
       "#sk-container-id-2 a.estimator_doc_link:hover {\n",
       "  /* unfitted */\n",
       "  background-color: var(--sklearn-color-unfitted-level-3);\n",
       "  color: var(--sklearn-color-background);\n",
       "  text-decoration: none;\n",
       "}\n",
       "\n",
       "#sk-container-id-2 a.estimator_doc_link.fitted:hover {\n",
       "  /* fitted */\n",
       "  background-color: var(--sklearn-color-fitted-level-3);\n",
       "}\n",
       "</style><div id=\"sk-container-id-2\" class=\"sk-top-container\"><div class=\"sk-text-repr-fallback\"><pre>GridSearchCV(cv=3, estimator=LinearRegression(), n_jobs=-1,\n",
       "             param_grid={&#x27;fit_intercept&#x27;: [True, False]}, scoring=&#x27;r2&#x27;)</pre><b>In a Jupyter environment, please rerun this cell to show the HTML representation or trust the notebook. <br />On GitHub, the HTML representation is unable to render, please try loading this page with nbviewer.org.</b></div><div class=\"sk-container\" hidden><div class=\"sk-item sk-dashed-wrapped\"><div class=\"sk-label-container\"><div class=\"sk-label fitted sk-toggleable\"><input class=\"sk-toggleable__control sk-hidden--visually\" id=\"sk-estimator-id-6\" type=\"checkbox\" ><label for=\"sk-estimator-id-6\" class=\"sk-toggleable__label fitted sk-toggleable__label-arrow fitted\">&nbsp;&nbsp;GridSearchCV<a class=\"sk-estimator-doc-link fitted\" rel=\"noreferrer\" target=\"_blank\" href=\"https://scikit-learn.org/1.5/modules/generated/sklearn.model_selection.GridSearchCV.html\">?<span>Documentation for GridSearchCV</span></a><span class=\"sk-estimator-doc-link fitted\">i<span>Fitted</span></span></label><div class=\"sk-toggleable__content fitted\"><pre>GridSearchCV(cv=3, estimator=LinearRegression(), n_jobs=-1,\n",
       "             param_grid={&#x27;fit_intercept&#x27;: [True, False]}, scoring=&#x27;r2&#x27;)</pre></div> </div></div><div class=\"sk-parallel\"><div class=\"sk-parallel-item\"><div class=\"sk-item\"><div class=\"sk-label-container\"><div class=\"sk-label fitted sk-toggleable\"><input class=\"sk-toggleable__control sk-hidden--visually\" id=\"sk-estimator-id-7\" type=\"checkbox\" ><label for=\"sk-estimator-id-7\" class=\"sk-toggleable__label fitted sk-toggleable__label-arrow fitted\">best_estimator_: LinearRegression</label><div class=\"sk-toggleable__content fitted\"><pre>LinearRegression()</pre></div> </div></div><div class=\"sk-serial\"><div class=\"sk-item\"><div class=\"sk-estimator fitted sk-toggleable\"><input class=\"sk-toggleable__control sk-hidden--visually\" id=\"sk-estimator-id-8\" type=\"checkbox\" ><label for=\"sk-estimator-id-8\" class=\"sk-toggleable__label fitted sk-toggleable__label-arrow fitted\">&nbsp;LinearRegression<a class=\"sk-estimator-doc-link fitted\" rel=\"noreferrer\" target=\"_blank\" href=\"https://scikit-learn.org/1.5/modules/generated/sklearn.linear_model.LinearRegression.html\">?<span>Documentation for LinearRegression</span></a></label><div class=\"sk-toggleable__content fitted\"><pre>LinearRegression()</pre></div> </div></div></div></div></div></div></div></div></div>"
      ],
      "text/plain": [
       "GridSearchCV(cv=3, estimator=LinearRegression(), n_jobs=-1,\n",
       "             param_grid={'fit_intercept': [True, False]}, scoring='r2')"
      ]
     },
     "execution_count": 87,
     "metadata": {},
     "output_type": "execute_result"
    }
   ],
   "source": [
    "# Fit GridSearch on Linear Regression using training data\n",
    "lr_search.fit(X_train_split, y_train_split)"
   ]
  },
  {
   "cell_type": "code",
   "execution_count": 88,
   "metadata": {},
   "outputs": [],
   "source": [
    "# Retrieve the best linear regression model from the grid search\n",
    "best_lr_model = lr_search.best_estimator_"
   ]
  },
  {
   "cell_type": "code",
   "execution_count": 89,
   "metadata": {},
   "outputs": [],
   "source": [
    "# GridSearch for Gradient Boosting Regressor (base model)\n",
    "gbr_search = GridSearchCV(\n",
    "    estimator=GradientBoostingRegressor(),\n",
    "    param_grid=gbr_param_grid,\n",
    "    scoring='r2',\n",
    "    cv=3,\n",
    "    n_jobs=-1\n",
    ")"
   ]
  },
  {
   "cell_type": "code",
   "execution_count": 90,
   "metadata": {},
   "outputs": [],
   "source": [
    "# Fit GridSearch on Gradient Boosting Regressor using training data\n",
    "gbr_search.fit(X_train_split, y_train_split)\n",
    "best_gbr_model = gbr_search.best_estimator_"
   ]
  },
  {
   "cell_type": "code",
   "execution_count": 91,
   "metadata": {},
   "outputs": [],
   "source": [
    "# List of tuned base models for blending\n",
    "tuned_models = [\n",
    "    ('LR', best_lr_model),\n",
    "    ('GBR', best_gbr_model)\n",
    "]"
   ]
  },
  {
   "cell_type": "code",
   "execution_count": 92,
   "metadata": {},
   "outputs": [],
   "source": [
    "# Re-train the meta-model with tuned base models' predictions\n",
    "def fit_all_models_tuned(models, X_train, X_val, y_train, y_val):\n",
    "    \"\"\"\n",
    "    Trains each tuned base model on the training data, predicts on validation data, and \n",
    "    trains a meta-model using the predictions from each base model as features.\n",
    "    \n",
    "    Parameters:\n",
    "        models (list): A list of tuples containing model names and tuned model instances.\n",
    "        X_train (array-like): Training data for the base models.\n",
    "        X_val (array-like): Validation data for generating predictions.\n",
    "        y_train (array-like): Target values for the training data.\n",
    "        y_val (array-like): Target values for the validation data.\n",
    "        \n",
    "    Returns:\n",
    "        MLPRegressor: The meta-model trained on the stacked predictions of base models.\n",
    "    \"\"\"\n",
    "    # Store predictions from each base model to be used as features for the meta-model\n",
    "    level_1_features = []\n",
    "\n",
    "    for name, model in models:\n",
    "        # Train each base model on the training data\n",
    "        model.fit(X_train, y_train)\n",
    "        # Predict on the validation set\n",
    "        y_pred = model.predict(X_val)\n",
    "        # Reshape predictions for stacking\n",
    "        y_pred = y_pred.reshape(len(y_pred), 1)\n",
    "        # Append predictions to the level_1_features list\n",
    "        level_1_features.append(y_pred)\n",
    "\n",
    "    # Horizontally stack all predictions as meta-model features\n",
    "    level_1_features = np.hstack(level_1_features)\n",
    "\n",
    "    # GridSearch for meta-model (MLPRegressor)\n",
    "    meta_model_search = GridSearchCV(\n",
    "        estimator=MLPRegressor(),\n",
    "        param_grid=meta_param_grid,\n",
    "        scoring='r2',\n",
    "        cv=3,\n",
    "        n_jobs=-1\n",
    "    )\n",
    "\n",
    "    # Fit GridSearch on the meta-model using level 1 features and validation targets\n",
    "    meta_model_search.fit(level_1_features, y_val)\n",
    "    best_meta_model = meta_model_search.best_estimator_\n",
    "\n",
    "    return best_meta_model"
   ]
  },
  {
   "cell_type": "code",
   "execution_count": 93,
   "metadata": {},
   "outputs": [
    {
     "name": "stderr",
     "output_type": "stream",
     "text": [
      "/Users/abhinandansamal/anaconda3/envs/myenv2/lib/python3.12/site-packages/sklearn/neural_network/_multilayer_perceptron.py:690: ConvergenceWarning: Stochastic Optimizer: Maximum iterations (200) reached and the optimization hasn't converged yet.\n",
      "  warnings.warn(\n",
      "/Users/abhinandansamal/anaconda3/envs/myenv2/lib/python3.12/site-packages/sklearn/neural_network/_multilayer_perceptron.py:690: ConvergenceWarning: Stochastic Optimizer: Maximum iterations (200) reached and the optimization hasn't converged yet.\n",
      "  warnings.warn(\n",
      "/Users/abhinandansamal/anaconda3/envs/myenv2/lib/python3.12/site-packages/sklearn/neural_network/_multilayer_perceptron.py:690: ConvergenceWarning: Stochastic Optimizer: Maximum iterations (200) reached and the optimization hasn't converged yet.\n",
      "  warnings.warn(\n",
      "/Users/abhinandansamal/anaconda3/envs/myenv2/lib/python3.12/site-packages/sklearn/neural_network/_multilayer_perceptron.py:690: ConvergenceWarning: Stochastic Optimizer: Maximum iterations (200) reached and the optimization hasn't converged yet.\n",
      "  warnings.warn(\n",
      "/Users/abhinandansamal/anaconda3/envs/myenv2/lib/python3.12/site-packages/sklearn/neural_network/_multilayer_perceptron.py:690: ConvergenceWarning: Stochastic Optimizer: Maximum iterations (200) reached and the optimization hasn't converged yet.\n",
      "  warnings.warn(\n",
      "/Users/abhinandansamal/anaconda3/envs/myenv2/lib/python3.12/site-packages/sklearn/neural_network/_multilayer_perceptron.py:690: ConvergenceWarning: Stochastic Optimizer: Maximum iterations (200) reached and the optimization hasn't converged yet.\n",
      "  warnings.warn(\n",
      "/Users/abhinandansamal/anaconda3/envs/myenv2/lib/python3.12/site-packages/sklearn/neural_network/_multilayer_perceptron.py:690: ConvergenceWarning: Stochastic Optimizer: Maximum iterations (200) reached and the optimization hasn't converged yet.\n",
      "  warnings.warn(\n",
      "/Users/abhinandansamal/anaconda3/envs/myenv2/lib/python3.12/site-packages/sklearn/neural_network/_multilayer_perceptron.py:690: ConvergenceWarning: Stochastic Optimizer: Maximum iterations (200) reached and the optimization hasn't converged yet.\n",
      "  warnings.warn(\n",
      "/Users/abhinandansamal/anaconda3/envs/myenv2/lib/python3.12/site-packages/sklearn/neural_network/_multilayer_perceptron.py:690: ConvergenceWarning: Stochastic Optimizer: Maximum iterations (200) reached and the optimization hasn't converged yet.\n",
      "  warnings.warn(\n",
      "/Users/abhinandansamal/anaconda3/envs/myenv2/lib/python3.12/site-packages/sklearn/neural_network/_multilayer_perceptron.py:690: ConvergenceWarning: Stochastic Optimizer: Maximum iterations (200) reached and the optimization hasn't converged yet.\n",
      "  warnings.warn(\n",
      "/Users/abhinandansamal/anaconda3/envs/myenv2/lib/python3.12/site-packages/sklearn/neural_network/_multilayer_perceptron.py:690: ConvergenceWarning: Stochastic Optimizer: Maximum iterations (200) reached and the optimization hasn't converged yet.\n",
      "  warnings.warn(\n",
      "/Users/abhinandansamal/anaconda3/envs/myenv2/lib/python3.12/site-packages/sklearn/neural_network/_multilayer_perceptron.py:690: ConvergenceWarning: Stochastic Optimizer: Maximum iterations (200) reached and the optimization hasn't converged yet.\n",
      "  warnings.warn(\n",
      "/Users/abhinandansamal/anaconda3/envs/myenv2/lib/python3.12/site-packages/sklearn/neural_network/_multilayer_perceptron.py:690: ConvergenceWarning: Stochastic Optimizer: Maximum iterations (200) reached and the optimization hasn't converged yet.\n",
      "  warnings.warn(\n",
      "/Users/abhinandansamal/anaconda3/envs/myenv2/lib/python3.12/site-packages/sklearn/neural_network/_multilayer_perceptron.py:690: ConvergenceWarning: Stochastic Optimizer: Maximum iterations (200) reached and the optimization hasn't converged yet.\n",
      "  warnings.warn(\n",
      "/Users/abhinandansamal/anaconda3/envs/myenv2/lib/python3.12/site-packages/sklearn/neural_network/_multilayer_perceptron.py:690: ConvergenceWarning: Stochastic Optimizer: Maximum iterations (200) reached and the optimization hasn't converged yet.\n",
      "  warnings.warn(\n",
      "/Users/abhinandansamal/anaconda3/envs/myenv2/lib/python3.12/site-packages/sklearn/neural_network/_multilayer_perceptron.py:690: ConvergenceWarning: Stochastic Optimizer: Maximum iterations (200) reached and the optimization hasn't converged yet.\n",
      "  warnings.warn(\n",
      "/Users/abhinandansamal/anaconda3/envs/myenv2/lib/python3.12/site-packages/sklearn/neural_network/_multilayer_perceptron.py:690: ConvergenceWarning: Stochastic Optimizer: Maximum iterations (200) reached and the optimization hasn't converged yet.\n",
      "  warnings.warn(\n",
      "/Users/abhinandansamal/anaconda3/envs/myenv2/lib/python3.12/site-packages/sklearn/neural_network/_multilayer_perceptron.py:690: ConvergenceWarning: Stochastic Optimizer: Maximum iterations (200) reached and the optimization hasn't converged yet.\n",
      "  warnings.warn(\n",
      "/Users/abhinandansamal/anaconda3/envs/myenv2/lib/python3.12/site-packages/sklearn/neural_network/_multilayer_perceptron.py:690: ConvergenceWarning: Stochastic Optimizer: Maximum iterations (200) reached and the optimization hasn't converged yet.\n",
      "  warnings.warn(\n",
      "/Users/abhinandansamal/anaconda3/envs/myenv2/lib/python3.12/site-packages/sklearn/neural_network/_multilayer_perceptron.py:690: ConvergenceWarning: Stochastic Optimizer: Maximum iterations (200) reached and the optimization hasn't converged yet.\n",
      "  warnings.warn(\n",
      "/Users/abhinandansamal/anaconda3/envs/myenv2/lib/python3.12/site-packages/sklearn/neural_network/_multilayer_perceptron.py:690: ConvergenceWarning: Stochastic Optimizer: Maximum iterations (200) reached and the optimization hasn't converged yet.\n",
      "  warnings.warn(\n",
      "/Users/abhinandansamal/anaconda3/envs/myenv2/lib/python3.12/site-packages/sklearn/neural_network/_multilayer_perceptron.py:690: ConvergenceWarning: Stochastic Optimizer: Maximum iterations (200) reached and the optimization hasn't converged yet.\n",
      "  warnings.warn(\n",
      "/Users/abhinandansamal/anaconda3/envs/myenv2/lib/python3.12/site-packages/sklearn/neural_network/_multilayer_perceptron.py:690: ConvergenceWarning: Stochastic Optimizer: Maximum iterations (200) reached and the optimization hasn't converged yet.\n",
      "  warnings.warn(\n",
      "/Users/abhinandansamal/anaconda3/envs/myenv2/lib/python3.12/site-packages/sklearn/neural_network/_multilayer_perceptron.py:690: ConvergenceWarning: Stochastic Optimizer: Maximum iterations (200) reached and the optimization hasn't converged yet.\n",
      "  warnings.warn(\n",
      "/Users/abhinandansamal/anaconda3/envs/myenv2/lib/python3.12/site-packages/sklearn/neural_network/_multilayer_perceptron.py:690: ConvergenceWarning: Stochastic Optimizer: Maximum iterations (200) reached and the optimization hasn't converged yet.\n",
      "  warnings.warn(\n",
      "/Users/abhinandansamal/anaconda3/envs/myenv2/lib/python3.12/site-packages/sklearn/neural_network/_multilayer_perceptron.py:690: ConvergenceWarning: Stochastic Optimizer: Maximum iterations (200) reached and the optimization hasn't converged yet.\n",
      "  warnings.warn(\n"
     ]
    }
   ],
   "source": [
    "# Train the blending model with tuned base models and meta-model\n",
    "meta_model_trained = fit_all_models_tuned(tuned_models, X_train_split, X_val_split, y_train_split, y_val_split)"
   ]
  },
  {
   "cell_type": "code",
   "execution_count": 94,
   "metadata": {},
   "outputs": [
    {
     "name": "stdout",
     "output_type": "stream",
     "text": [
      "Best R2 for Blending Model (after tuning):\n",
      "0.6046136386499618\n"
     ]
    }
   ],
   "source": [
    "# Predict on test data using the tuned blending model and calculate R2 score\n",
    "y_pred_blend = pred_data(tuned_models, meta_model_trained, X_test)\n",
    "print(\"Best R2 for Blending Model (after tuning):\")\n",
    "print(r2_score(y_test, y_pred_blend))"
   ]
  },
  {
   "cell_type": "markdown",
   "metadata": {},
   "source": [
    "**Observation:**\n",
    "\n",
    "The slight improvement in R2 scores after hyperparameter tuning suggests that the original models were already close to optimal performance. Specifically:\n",
    "\n",
    "* Blending Model: The R2 score increased from 0.6017 to 0.6046, indicating a minor but positive gain in the model’s generalization ability on unseen data.\n",
    "* Stacking Model: The R2 score rose from 0.6015 to 0.6016, reflecting an even smaller improvement. This implies that the stacking configuration might not be as responsive to parameter tuning as the blending model.\n",
    "\n",
    "**Suggestions for further improvement:**\n",
    "\n",
    "These modest increases suggest that the models are likely capturing patterns effectively but may have limited potential for further enhancement through tuning alone. For greater performance gains, consider exploring additional model types, feature engineering, or ensembling the blending and stacking models.\n",
    "\n",
    "**Conclusion:** \n",
    "\n",
    "Given the results, the Blending Model could be preferred, as it shows a marginally better R2 and responded more positively to tuning."
   ]
  },
  {
   "cell_type": "markdown",
   "metadata": {},
   "source": [
    "## Save the Models\n",
    "\n",
    "**Saving the Stacking Model:**"
   ]
  },
  {
   "cell_type": "code",
   "execution_count": 95,
   "metadata": {},
   "outputs": [
    {
     "name": "stdout",
     "output_type": "stream",
     "text": [
      "Stacking model saved as 'best_stacking_model.pkl'\n"
     ]
    }
   ],
   "source": [
    "# Save the tuned stacking model\n",
    "best_stacking_model.fit(X_train, y_train)\n",
    "joblib.dump(best_stacking_model, '../output/best_stacking_model.pkl')\n",
    "print(\"Stacking model saved as 'best_stacking_model.pkl'\")"
   ]
  },
  {
   "cell_type": "markdown",
   "metadata": {},
   "source": [
    "**Saving the Blending Model:**"
   ]
  },
  {
   "cell_type": "code",
   "execution_count": 96,
   "metadata": {},
   "outputs": [],
   "source": [
    "# Save each tuned base model individually\n",
    "for name, model in tuned_models:\n",
    "    joblib.dump(model, f\"../output/{name}_model.pkl\")  # Saves each base model (e.g., 'LR_model.pkl' and 'GBR_model.pkl')"
   ]
  },
  {
   "cell_type": "code",
   "execution_count": 97,
   "metadata": {},
   "outputs": [
    {
     "name": "stdout",
     "output_type": "stream",
     "text": [
      "Blending model components saved successfully.\n"
     ]
    }
   ],
   "source": [
    "# Save the tuned meta-model\n",
    "joblib.dump(meta_model_trained, \"../output/meta_model.pkl\")\n",
    "print(\"Blending model components saved successfully.\")"
   ]
  },
  {
   "cell_type": "markdown",
   "metadata": {},
   "source": [
    "## Loading the Models\n",
    "\n",
    "**1. Loading the Stacking Model:**"
   ]
  },
  {
   "cell_type": "code",
   "execution_count": 98,
   "metadata": {},
   "outputs": [],
   "source": [
    "# Load the saved stacking model\n",
    "stacking_model_loaded = joblib.load('../output/best_stacking_model.pkl')"
   ]
  },
  {
   "cell_type": "code",
   "execution_count": 99,
   "metadata": {},
   "outputs": [
    {
     "name": "stdout",
     "output_type": "stream",
     "text": [
      "R2 of loaded Stacking Model:\n",
      "0.6016219316490382\n"
     ]
    }
   ],
   "source": [
    "# Use these loaded model & predict on test data and calculate R2 score\n",
    "y_pred_stack = stacking_model_loaded.predict(X_test)\n",
    "print(\"R2 of loaded Stacking Model:\")\n",
    "print(r2_score(y_test, y_pred_stack))"
   ]
  },
  {
   "cell_type": "markdown",
   "metadata": {},
   "source": [
    "**1. Loading the Blending Model:**"
   ]
  },
  {
   "cell_type": "code",
   "execution_count": 100,
   "metadata": {},
   "outputs": [],
   "source": [
    "# Load the base models\n",
    "loaded_models = [\n",
    "    ('LR', joblib.load(\"../output/LR_model.pkl\")),\n",
    "    ('GBR', joblib.load(\"../output/GBR_model.pkl\"))\n",
    "]\n",
    "\n",
    "# Load the meta-model\n",
    "loaded_meta_model = joblib.load(\"../output/meta_model.pkl\")"
   ]
  },
  {
   "cell_type": "code",
   "execution_count": 101,
   "metadata": {},
   "outputs": [
    {
     "name": "stdout",
     "output_type": "stream",
     "text": [
      "R2 of loaded Blending model:\n",
      "0.6046136386499618\n"
     ]
    }
   ],
   "source": [
    "# Use these loaded models with `pred_data` function or other custom functions\n",
    "y_pred_blend = pred_data(loaded_models, loaded_meta_model, X_test)\n",
    "print(\"R2 of loaded Blending model:\")\n",
    "print(r2_score(y_test, y_pred_blend))"
   ]
  }
 ],
 "metadata": {
  "kernelspec": {
   "display_name": "myenv2",
   "language": "python",
   "name": "python3"
  },
  "language_info": {
   "codemirror_mode": {
    "name": "ipython",
    "version": 3
   },
   "file_extension": ".py",
   "mimetype": "text/x-python",
   "name": "python",
   "nbconvert_exporter": "python",
   "pygments_lexer": "ipython3",
   "version": "3.12.7"
  }
 },
 "nbformat": 4,
 "nbformat_minor": 2
}
